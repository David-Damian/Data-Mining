{
 "cells": [
  {
   "cell_type": "markdown",
   "id": "e10d34dc",
   "metadata": {},
   "source": [
    "# Proyecto Mineria de Datos: Credit Scores\n",
    "\n",
    "### Parte 1: Limpieza de datos"
   ]
  },
  {
   "cell_type": "code",
   "execution_count": 1,
   "id": "2d34c42b",
   "metadata": {},
   "outputs": [],
   "source": [
    "import numpy as np\n",
    "import pandas as pd\n",
    "import pandas_profiling as pp\n",
    "\n",
    "import matplotlib.pyplot as plt\n",
    "import os\n",
    "\n",
    "import warnings\n",
    "warnings.filterwarnings(\"ignore\")"
   ]
  },
  {
   "cell_type": "markdown",
   "id": "e56fea81",
   "metadata": {},
   "source": [
    "## Datos"
   ]
  },
  {
   "cell_type": "code",
   "execution_count": 2,
   "id": "e2942604",
   "metadata": {},
   "outputs": [],
   "source": [
    "os.chdir('/home/juanpalms/Desktop/Mineria de Datos/Proyecto')"
   ]
  },
  {
   "cell_type": "code",
   "execution_count": 3,
   "id": "c6d0f0b5",
   "metadata": {},
   "outputs": [
    {
     "data": {
      "text/plain": [
       "'/home/juanpalms/Desktop/Mineria de Datos/Proyecto'"
      ]
     },
     "execution_count": 3,
     "metadata": {},
     "output_type": "execute_result"
    }
   ],
   "source": [
    "os.getcwd()"
   ]
  },
  {
   "cell_type": "code",
   "execution_count": 4,
   "id": "464e5db7",
   "metadata": {},
   "outputs": [],
   "source": [
    "datos_train=pd.read_csv('Data/train.csv')"
   ]
  },
  {
   "cell_type": "code",
   "execution_count": 5,
   "id": "80b2385b",
   "metadata": {},
   "outputs": [],
   "source": [
    "datos_test=pd.read_csv('Data/test.csv')"
   ]
  },
  {
   "cell_type": "code",
   "execution_count": 6,
   "id": "5d6a37bb",
   "metadata": {},
   "outputs": [
    {
     "data": {
      "text/html": [
       "<div>\n",
       "<style scoped>\n",
       "    .dataframe tbody tr th:only-of-type {\n",
       "        vertical-align: middle;\n",
       "    }\n",
       "\n",
       "    .dataframe tbody tr th {\n",
       "        vertical-align: top;\n",
       "    }\n",
       "\n",
       "    .dataframe thead th {\n",
       "        text-align: right;\n",
       "    }\n",
       "</style>\n",
       "<table border=\"1\" class=\"dataframe\">\n",
       "  <thead>\n",
       "    <tr style=\"text-align: right;\">\n",
       "      <th></th>\n",
       "      <th>Monthly_Inhand_Salary</th>\n",
       "      <th>Num_Bank_Accounts</th>\n",
       "      <th>Num_Credit_Card</th>\n",
       "      <th>Interest_Rate</th>\n",
       "      <th>Delay_from_due_date</th>\n",
       "      <th>Num_Credit_Inquiries</th>\n",
       "      <th>Credit_Utilization_Ratio</th>\n",
       "      <th>Total_EMI_per_month</th>\n",
       "    </tr>\n",
       "  </thead>\n",
       "  <tbody>\n",
       "    <tr>\n",
       "      <th>count</th>\n",
       "      <td>84998.000000</td>\n",
       "      <td>100000.000000</td>\n",
       "      <td>100000.00000</td>\n",
       "      <td>100000.000000</td>\n",
       "      <td>100000.000000</td>\n",
       "      <td>98035.000000</td>\n",
       "      <td>100000.000000</td>\n",
       "      <td>100000.000000</td>\n",
       "    </tr>\n",
       "    <tr>\n",
       "      <th>mean</th>\n",
       "      <td>4194.170850</td>\n",
       "      <td>17.091280</td>\n",
       "      <td>22.47443</td>\n",
       "      <td>72.466040</td>\n",
       "      <td>21.068780</td>\n",
       "      <td>27.754251</td>\n",
       "      <td>32.285173</td>\n",
       "      <td>1403.118217</td>\n",
       "    </tr>\n",
       "    <tr>\n",
       "      <th>std</th>\n",
       "      <td>3183.686167</td>\n",
       "      <td>117.404834</td>\n",
       "      <td>129.05741</td>\n",
       "      <td>466.422621</td>\n",
       "      <td>14.860104</td>\n",
       "      <td>193.177339</td>\n",
       "      <td>5.116875</td>\n",
       "      <td>8306.041270</td>\n",
       "    </tr>\n",
       "    <tr>\n",
       "      <th>min</th>\n",
       "      <td>303.645417</td>\n",
       "      <td>-1.000000</td>\n",
       "      <td>0.00000</td>\n",
       "      <td>1.000000</td>\n",
       "      <td>-5.000000</td>\n",
       "      <td>0.000000</td>\n",
       "      <td>20.000000</td>\n",
       "      <td>0.000000</td>\n",
       "    </tr>\n",
       "    <tr>\n",
       "      <th>25%</th>\n",
       "      <td>1625.568229</td>\n",
       "      <td>3.000000</td>\n",
       "      <td>4.00000</td>\n",
       "      <td>8.000000</td>\n",
       "      <td>10.000000</td>\n",
       "      <td>3.000000</td>\n",
       "      <td>28.052567</td>\n",
       "      <td>30.306660</td>\n",
       "    </tr>\n",
       "    <tr>\n",
       "      <th>50%</th>\n",
       "      <td>3093.745000</td>\n",
       "      <td>6.000000</td>\n",
       "      <td>5.00000</td>\n",
       "      <td>13.000000</td>\n",
       "      <td>18.000000</td>\n",
       "      <td>6.000000</td>\n",
       "      <td>32.305784</td>\n",
       "      <td>69.249473</td>\n",
       "    </tr>\n",
       "    <tr>\n",
       "      <th>75%</th>\n",
       "      <td>5957.448333</td>\n",
       "      <td>7.000000</td>\n",
       "      <td>7.00000</td>\n",
       "      <td>20.000000</td>\n",
       "      <td>28.000000</td>\n",
       "      <td>9.000000</td>\n",
       "      <td>36.496663</td>\n",
       "      <td>161.224249</td>\n",
       "    </tr>\n",
       "    <tr>\n",
       "      <th>max</th>\n",
       "      <td>15204.633333</td>\n",
       "      <td>1798.000000</td>\n",
       "      <td>1499.00000</td>\n",
       "      <td>5797.000000</td>\n",
       "      <td>67.000000</td>\n",
       "      <td>2597.000000</td>\n",
       "      <td>50.000000</td>\n",
       "      <td>82331.000000</td>\n",
       "    </tr>\n",
       "  </tbody>\n",
       "</table>\n",
       "</div>"
      ],
      "text/plain": [
       "       Monthly_Inhand_Salary  Num_Bank_Accounts  Num_Credit_Card  \\\n",
       "count           84998.000000      100000.000000     100000.00000   \n",
       "mean             4194.170850          17.091280         22.47443   \n",
       "std              3183.686167         117.404834        129.05741   \n",
       "min               303.645417          -1.000000          0.00000   \n",
       "25%              1625.568229           3.000000          4.00000   \n",
       "50%              3093.745000           6.000000          5.00000   \n",
       "75%              5957.448333           7.000000          7.00000   \n",
       "max             15204.633333        1798.000000       1499.00000   \n",
       "\n",
       "       Interest_Rate  Delay_from_due_date  Num_Credit_Inquiries  \\\n",
       "count  100000.000000        100000.000000          98035.000000   \n",
       "mean       72.466040            21.068780             27.754251   \n",
       "std       466.422621            14.860104            193.177339   \n",
       "min         1.000000            -5.000000              0.000000   \n",
       "25%         8.000000            10.000000              3.000000   \n",
       "50%        13.000000            18.000000              6.000000   \n",
       "75%        20.000000            28.000000              9.000000   \n",
       "max      5797.000000            67.000000           2597.000000   \n",
       "\n",
       "       Credit_Utilization_Ratio  Total_EMI_per_month  \n",
       "count             100000.000000        100000.000000  \n",
       "mean                  32.285173          1403.118217  \n",
       "std                    5.116875          8306.041270  \n",
       "min                   20.000000             0.000000  \n",
       "25%                   28.052567            30.306660  \n",
       "50%                   32.305784            69.249473  \n",
       "75%                   36.496663           161.224249  \n",
       "max                   50.000000         82331.000000  "
      ]
     },
     "execution_count": 6,
     "metadata": {},
     "output_type": "execute_result"
    }
   ],
   "source": [
    "datos_train.describe()"
   ]
  },
  {
   "cell_type": "code",
   "execution_count": 7,
   "id": "6de1b6ea",
   "metadata": {},
   "outputs": [
    {
     "name": "stdout",
     "output_type": "stream",
     "text": [
      "['ID', 'Customer_ID', 'Month', 'Name', 'Age', 'SSN', 'Occupation', 'Annual_Income', 'Monthly_Inhand_Salary', 'Num_Bank_Accounts', 'Num_Credit_Card', 'Interest_Rate', 'Num_of_Loan', 'Type_of_Loan', 'Delay_from_due_date', 'Num_of_Delayed_Payment', 'Changed_Credit_Limit', 'Num_Credit_Inquiries', 'Credit_Mix', 'Outstanding_Debt', 'Credit_Utilization_Ratio', 'Credit_History_Age', 'Payment_of_Min_Amount', 'Total_EMI_per_month', 'Amount_invested_monthly', 'Payment_Behaviour', 'Monthly_Balance', 'Credit_Score']\n"
     ]
    }
   ],
   "source": [
    "columns_headers=list(datos_train.columns.values)\n",
    "print(columns_headers)"
   ]
  },
  {
   "cell_type": "code",
   "execution_count": 8,
   "id": "8ab16fca",
   "metadata": {},
   "outputs": [],
   "source": [
    "#Eliminamos variables que no van a aportar nada al analisis\n",
    "datos_train.drop([\"SSN\",\"Credit_History_Age\",\"Name\"], axis=1, inplace=True)"
   ]
  },
  {
   "cell_type": "markdown",
   "id": "9602a227",
   "metadata": {},
   "source": [
    "### Lista de variables completas para analisis\n",
    "\n",
    "1) ID________________________________________#No necesita cambios                      \n",
    "2) Customer ID_______________________________#No necesita cambios   \n",
    "3) Month______________________________________#No necesita cambios                       \n",
    "4) Age________________________________________#Cambios: quitar outliers y missing values                       \n",
    "5) Occupation__________________________________#Se quitaron missing values              \n",
    "6) Annual_Income______________________________#No necesita cambios         \n",
    "7) Monthly_Inhand_Salary______________________#Cambios: quitar outliers y missing values    \n",
    "8) Num_Bank_Account____________________________#Cambios: quitar outliers y missing values \n",
    "9) Num_Credit_Card____________________________#Cambios: quitar outliers y missing values            \n",
    "10) Interest_Rate_____________________________#Cambios: quitar outliers y missing values             \n",
    "11) Num_of_Loan_______________________________#Cambios: quitar outliers y missing values                \n",
    "12) Type_of_Loan             #Falta hacer One Hot Encoding\n",
    "13) Delay_from_due_date      #esta se ve normal por ahora la dejo asi  \n",
    "14) Num_of_Delayed_Payment_______________________________#Cambios: quitar outliers y missing values   \n",
    "15) Changed_Credit_Limit________________________________#Cambios: quitar outliers y missing values   \n",
    "16) Num_Credit_Inquiries________________________________#Cambios: quitar outliers y missing values      \n",
    "17) Credit_Mix                \n",
    "18) Outstanding_Debt          \n",
    "19) Credit_Utilization_Ratio  \n",
    "20) Payment_of_Min_Amount     \n",
    "21) Total_EMI_per_month       \n",
    "22) Amount_invested_monthly    \n",
    "23) Payment_Behaviour         \n",
    "24) Monthly_Balance           \n",
    "25) Credit_Score              "
   ]
  },
  {
   "cell_type": "code",
   "execution_count": 9,
   "id": "f5259e50",
   "metadata": {},
   "outputs": [],
   "source": [
    "#Establecemos como indice la variable \"Customer_ID\" esto nos va a dejar con indices repetidos, pero es util\n",
    "#para poder reemplazar valores faltantes con la moda intra-individuo\n",
    "\n",
    "datos_train.set_index([\"Customer_ID\"],inplace=True)"
   ]
  },
  {
   "cell_type": "code",
   "execution_count": 10,
   "id": "5131965f",
   "metadata": {},
   "outputs": [
    {
     "data": {
      "text/plain": [
       "(100000, 24)"
      ]
     },
     "execution_count": 10,
     "metadata": {},
     "output_type": "execute_result"
    }
   ],
   "source": [
    "#Nos concentramos en la limpieza de las variables relevantes\n",
    "datos_train.shape"
   ]
  },
  {
   "cell_type": "markdown",
   "id": "45fff03f",
   "metadata": {},
   "source": [
    "### Variables con typos  o missing values"
   ]
  },
  {
   "cell_type": "code",
   "execution_count": 11,
   "id": "a3ba1fea",
   "metadata": {},
   "outputs": [],
   "source": [
    "#Hacemos manipulaciones iniciales de algunas variables numericas que tienen caracteres especiales\n",
    "datos_train['Age'] = datos_train['Age'].str.replace('_', '').astype('int64')\n",
    "datos_train['Annual_Income'] = datos_train['Annual_Income'].str.replace('_', '').astype('float64')\n",
    "datos_train['Num_of_Loan'] = datos_train['Num_of_Loan'].str.replace('_', '').astype('float64')\n",
    "datos_train['Num_of_Delayed_Payment'] = datos_train['Num_of_Delayed_Payment'].str.replace('_', '').astype('float64')\n",
    "datos_train['Changed_Credit_Limit']=pd.to_numeric(datos_train['Changed_Credit_Limit'], errors='coerce')\n",
    "datos_train['Outstanding_Debt'] = datos_train['Outstanding_Debt'].str.replace('_', '').astype('float64')\n",
    "datos_train['Amount_invested_monthly'] = datos_train['Amount_invested_monthly'].str.replace('_', '').astype('float64')"
   ]
  },
  {
   "cell_type": "code",
   "execution_count": 12,
   "id": "88034348",
   "metadata": {},
   "outputs": [
    {
     "data": {
      "text/plain": [
       "count    100000.000000\n",
       "mean       1426.220376\n",
       "std        1155.129026\n",
       "min           0.230000\n",
       "25%         566.072500\n",
       "50%        1166.155000\n",
       "75%        1945.962500\n",
       "max        4998.070000\n",
       "Name: Outstanding_Debt, dtype: float64"
      ]
     },
     "execution_count": 12,
     "metadata": {},
     "output_type": "execute_result"
    }
   ],
   "source": [
    "datos_train[\"Outstanding_Debt\"].describe()"
   ]
  },
  {
   "cell_type": "markdown",
   "id": "b8e63ab5",
   "metadata": {},
   "source": [
    "A CONTINUACION SE ARREGLA EL ERROR DE  OTLIERS O MISSSING VALUES"
   ]
  },
  {
   "cell_type": "code",
   "execution_count": 13,
   "id": "e77ec5a1",
   "metadata": {},
   "outputs": [],
   "source": [
    "####PASO 1) Separamos los meses del data set. En el training set tenemos 8 meses etiquetados con la y objetivo\n",
    "# cada individuo aparece 8 veces en el data set por lo que nos interesa obtener modas de las variables que no cambian\n",
    "#en el tiempo: Age, Occupation, Annual Income,Monthly_Inhand_Salary.\n",
    "#Hacemos un data set para cada mes en el train set\n",
    "enero=datos_train[datos_train['Month']==\"January\"]\n",
    "febrero=datos_train[datos_train['Month']==\"February\"]\n",
    "marzo=datos_train[datos_train['Month']==\"March\"]\n",
    "abril=datos_train[datos_train['Month']==\"April\"]\n",
    "mayo=datos_train[datos_train['Month']==\"May\"]\n",
    "junio=datos_train[datos_train['Month']==\"June\"]\n",
    "julio=datos_train[datos_train['Month']==\"July\"]\n",
    "agosto=datos_train[datos_train['Month']==\"August\"]"
   ]
  },
  {
   "cell_type": "code",
   "execution_count": 14,
   "id": "07542620",
   "metadata": {},
   "outputs": [],
   "source": [
    "import functools as ft"
   ]
  },
  {
   "cell_type": "code",
   "execution_count": 15,
   "id": "b619f0df",
   "metadata": {},
   "outputs": [],
   "source": [
    "###PASO 2) Este paso se va a repetir para cada variable a la cual querramos sacarle la moda\n",
    "#En esta celda se crea un data set solo incluyendo las edades, en esta celda, se esta ordenando\n",
    "# en columnas las edadades para cada mes y en cada row estaran todas las edades de los individuos formadas del\n",
    "#mes de Enero al mes de Agosto, esto nos permitira sacar la moda de manera horizontal (moda para cada row)\n",
    "\n",
    "#AGE\n",
    "edades=[enero['Age'],febrero['Age'],marzo['Age'],abril['Age'],mayo['Age'],junio['Age'],julio['Age'],agosto['Age']]\n",
    "df_edad = ft.reduce(lambda left, right: pd.merge(left, right, on=[\"Customer_ID\"]), edades)\n",
    "\n",
    "#OCCUPATION\n",
    "Ocupacion=[enero['Occupation'],febrero['Occupation'],marzo['Occupation'],abril['Occupation'],mayo['Occupation'],junio['Occupation'],julio['Occupation'],agosto['Occupation']]\n",
    "df_ocupacion = ft.reduce(lambda left, right: pd.merge(left, right, on=[\"Customer_ID\"]), Ocupacion)\n",
    "\n",
    "#MONTHLY_INHAND_SALARY\n",
    "Salario=[enero['Monthly_Inhand_Salary'],febrero['Monthly_Inhand_Salary'],marzo['Monthly_Inhand_Salary'],abril['Monthly_Inhand_Salary'],mayo['Monthly_Inhand_Salary'],junio['Monthly_Inhand_Salary'],julio['Monthly_Inhand_Salary'],agosto['Monthly_Inhand_Salary']]\n",
    "df_salario = ft.reduce(lambda left, right: pd.merge(left, right, on=[\"Customer_ID\"]), Salario)\n",
    "\n",
    "#MNUM_BANK_ACCOUNTS\n",
    "Cuentas_numero=[enero['Num_Bank_Accounts'],febrero['Num_Bank_Accounts'],marzo['Num_Bank_Accounts'],abril['Num_Bank_Accounts'],mayo['Num_Bank_Accounts'],junio['Num_Bank_Accounts'],julio['Num_Bank_Accounts'],agosto['Num_Bank_Accounts']]\n",
    "df_cuentas= ft.reduce(lambda left, right: pd.merge(left, right, on=[\"Customer_ID\"]), Cuentas_numero)\n",
    "\n",
    "#MNUM_CREDIT_CARDS\n",
    "Tarjetas_credito=[enero['Num_Credit_Card'],febrero['Num_Credit_Card'],marzo['Num_Credit_Card'],abril['Num_Credit_Card'],mayo['Num_Credit_Card'],junio['Num_Credit_Card'],julio['Num_Credit_Card'],agosto['Num_Credit_Card']]\n",
    "df_tdc= ft.reduce(lambda left, right: pd.merge(left, right, on=[\"Customer_ID\"]), Tarjetas_credito)\n",
    "\n",
    "\n",
    "#Interest Rate\n",
    "Interes=[enero['Interest_Rate'],febrero['Interest_Rate'],marzo['Interest_Rate'],abril['Interest_Rate'],mayo['Interest_Rate'],junio['Interest_Rate'],julio['Interest_Rate'],agosto['Interest_Rate']]\n",
    "df_interes= ft.reduce(lambda left, right: pd.merge(left, right, on=[\"Customer_ID\"]), Interes)\n",
    "\n",
    "#NUM OF LOAN\n",
    "NumLOan=[enero['Num_of_Loan'],febrero['Num_of_Loan'],marzo['Num_of_Loan'],abril['Num_of_Loan'],mayo['Num_of_Loan'],junio['Num_of_Loan'],julio['Num_of_Loan'],agosto['Num_of_Loan']]\n",
    "df_loan= ft.reduce(lambda left, right: pd.merge(left, right, on=[\"Customer_ID\"]), NumLOan)\n",
    "\n",
    "\n",
    "#NUM DELAYED\n",
    "NumDelayed=[enero['Num_of_Delayed_Payment'],febrero['Num_of_Delayed_Payment'],marzo['Num_of_Delayed_Payment'],abril['Num_of_Delayed_Payment'],mayo['Num_of_Delayed_Payment'],junio['Num_of_Delayed_Payment'],julio['Num_of_Delayed_Payment'],agosto['Num_of_Delayed_Payment']]\n",
    "df_ndelayed= ft.reduce(lambda left, right: pd.merge(left, right, on=[\"Customer_ID\"]), NumDelayed)\n",
    "\n",
    "\n",
    "\n",
    "#ANGED CREDIT LIMIT\n",
    "Changed_limit=[enero['Changed_Credit_Limit'],febrero['Changed_Credit_Limit'],marzo['Changed_Credit_Limit'],abril['Changed_Credit_Limit'],mayo['Changed_Credit_Limit'],junio['Changed_Credit_Limit'],julio['Changed_Credit_Limit'],agosto['Changed_Credit_Limit']]\n",
    "df_chlimit= ft.reduce(lambda left, right: pd.merge(left, right, on=[\"Customer_ID\"]), Changed_limit)\n",
    "\n",
    "\n",
    "#NUM CREDIT INQUIRIES\n",
    "Credit_inquiries=[enero['Num_Credit_Inquiries'],febrero['Num_Credit_Inquiries'],marzo['Num_Credit_Inquiries'],abril['Num_Credit_Inquiries'],mayo['Num_Credit_Inquiries'],junio['Num_Credit_Inquiries'],julio['Num_Credit_Inquiries'],agosto['Num_Credit_Inquiries']]\n",
    "df_credinquiries= ft.reduce(lambda left, right: pd.merge(left, right, on=[\"Customer_ID\"]), Credit_inquiries)\n",
    "\n",
    "#AMOUNT INVESTED MONTHLY\n",
    "Amount_invested=[enero['Amount_invested_monthly'],febrero['Amount_invested_monthly'],marzo['Amount_invested_monthly'],abril['Amount_invested_monthly'],mayo['Amount_invested_monthly'],junio['Amount_invested_monthly'],julio['Amount_invested_monthly'],agosto['Amount_invested_monthly']]\n",
    "df_amountinvested= ft.reduce(lambda left, right: pd.merge(left, right, on=[\"Customer_ID\"]), Amount_invested)"
   ]
  },
  {
   "cell_type": "code",
   "execution_count": 16,
   "id": "3a13ed89",
   "metadata": {},
   "outputs": [
    {
     "data": {
      "text/html": [
       "<div>\n",
       "<style scoped>\n",
       "    .dataframe tbody tr th:only-of-type {\n",
       "        vertical-align: middle;\n",
       "    }\n",
       "\n",
       "    .dataframe tbody tr th {\n",
       "        vertical-align: top;\n",
       "    }\n",
       "\n",
       "    .dataframe thead th {\n",
       "        text-align: right;\n",
       "    }\n",
       "</style>\n",
       "<table border=\"1\" class=\"dataframe\">\n",
       "  <thead>\n",
       "    <tr style=\"text-align: right;\">\n",
       "      <th></th>\n",
       "      <th>Changed_Credit_Limit_x</th>\n",
       "      <th>Changed_Credit_Limit_y</th>\n",
       "      <th>Changed_Credit_Limit_x</th>\n",
       "      <th>Changed_Credit_Limit_y</th>\n",
       "      <th>Changed_Credit_Limit_x</th>\n",
       "      <th>Changed_Credit_Limit_y</th>\n",
       "      <th>Changed_Credit_Limit_x</th>\n",
       "      <th>Changed_Credit_Limit_y</th>\n",
       "    </tr>\n",
       "    <tr>\n",
       "      <th>Customer_ID</th>\n",
       "      <th></th>\n",
       "      <th></th>\n",
       "      <th></th>\n",
       "      <th></th>\n",
       "      <th></th>\n",
       "      <th></th>\n",
       "      <th></th>\n",
       "      <th></th>\n",
       "    </tr>\n",
       "  </thead>\n",
       "  <tbody>\n",
       "    <tr>\n",
       "      <th>CUS_0xd40</th>\n",
       "      <td>11.27</td>\n",
       "      <td>11.27</td>\n",
       "      <td>NaN</td>\n",
       "      <td>6.27</td>\n",
       "      <td>11.27</td>\n",
       "      <td>9.27</td>\n",
       "      <td>11.27</td>\n",
       "      <td>11.27</td>\n",
       "    </tr>\n",
       "    <tr>\n",
       "      <th>CUS_0x21b1</th>\n",
       "      <td>5.42</td>\n",
       "      <td>7.42</td>\n",
       "      <td>5.42</td>\n",
       "      <td>5.42</td>\n",
       "      <td>6.42</td>\n",
       "      <td>5.42</td>\n",
       "      <td>5.42</td>\n",
       "      <td>5.42</td>\n",
       "    </tr>\n",
       "    <tr>\n",
       "      <th>CUS_0x2dbc</th>\n",
       "      <td>7.10</td>\n",
       "      <td>7.10</td>\n",
       "      <td>11.10</td>\n",
       "      <td>9.10</td>\n",
       "      <td>7.10</td>\n",
       "      <td>7.10</td>\n",
       "      <td>7.10</td>\n",
       "      <td>7.10</td>\n",
       "    </tr>\n",
       "    <tr>\n",
       "      <th>CUS_0xb891</th>\n",
       "      <td>1.99</td>\n",
       "      <td>1.99</td>\n",
       "      <td>1.99</td>\n",
       "      <td>-2.01</td>\n",
       "      <td>-1.01</td>\n",
       "      <td>-3.01</td>\n",
       "      <td>1.99</td>\n",
       "      <td>1.99</td>\n",
       "    </tr>\n",
       "    <tr>\n",
       "      <th>CUS_0x1cdb</th>\n",
       "      <td>2.58</td>\n",
       "      <td>2.58</td>\n",
       "      <td>2.58</td>\n",
       "      <td>2.58</td>\n",
       "      <td>2.58</td>\n",
       "      <td>2.58</td>\n",
       "      <td>2.58</td>\n",
       "      <td>2.58</td>\n",
       "    </tr>\n",
       "    <tr>\n",
       "      <th>...</th>\n",
       "      <td>...</td>\n",
       "      <td>...</td>\n",
       "      <td>...</td>\n",
       "      <td>...</td>\n",
       "      <td>...</td>\n",
       "      <td>...</td>\n",
       "      <td>...</td>\n",
       "      <td>...</td>\n",
       "    </tr>\n",
       "    <tr>\n",
       "      <th>CUS_0x372c</th>\n",
       "      <td>4.10</td>\n",
       "      <td>-0.90</td>\n",
       "      <td>12.10</td>\n",
       "      <td>5.10</td>\n",
       "      <td>5.10</td>\n",
       "      <td>5.10</td>\n",
       "      <td>5.10</td>\n",
       "      <td>5.10</td>\n",
       "    </tr>\n",
       "    <tr>\n",
       "      <th>CUS_0xf16</th>\n",
       "      <td>5.69</td>\n",
       "      <td>5.69</td>\n",
       "      <td>5.69</td>\n",
       "      <td>5.69</td>\n",
       "      <td>5.69</td>\n",
       "      <td>0.69</td>\n",
       "      <td>11.69</td>\n",
       "      <td>5.69</td>\n",
       "    </tr>\n",
       "    <tr>\n",
       "      <th>CUS_0xaf61</th>\n",
       "      <td>5.38</td>\n",
       "      <td>5.38</td>\n",
       "      <td>5.38</td>\n",
       "      <td>5.38</td>\n",
       "      <td>5.38</td>\n",
       "      <td>5.38</td>\n",
       "      <td>5.38</td>\n",
       "      <td>5.38</td>\n",
       "    </tr>\n",
       "    <tr>\n",
       "      <th>CUS_0x8600</th>\n",
       "      <td>18.31</td>\n",
       "      <td>23.31</td>\n",
       "      <td>18.31</td>\n",
       "      <td>18.31</td>\n",
       "      <td>18.31</td>\n",
       "      <td>16.31</td>\n",
       "      <td>18.31</td>\n",
       "      <td>18.31</td>\n",
       "    </tr>\n",
       "    <tr>\n",
       "      <th>CUS_0x942c</th>\n",
       "      <td>9.50</td>\n",
       "      <td>11.50</td>\n",
       "      <td>9.50</td>\n",
       "      <td>11.50</td>\n",
       "      <td>11.50</td>\n",
       "      <td>11.50</td>\n",
       "      <td>11.50</td>\n",
       "      <td>11.50</td>\n",
       "    </tr>\n",
       "  </tbody>\n",
       "</table>\n",
       "<p>12500 rows × 8 columns</p>\n",
       "</div>"
      ],
      "text/plain": [
       "             Changed_Credit_Limit_x  Changed_Credit_Limit_y  \\\n",
       "Customer_ID                                                   \n",
       "CUS_0xd40                     11.27                   11.27   \n",
       "CUS_0x21b1                     5.42                    7.42   \n",
       "CUS_0x2dbc                     7.10                    7.10   \n",
       "CUS_0xb891                     1.99                    1.99   \n",
       "CUS_0x1cdb                     2.58                    2.58   \n",
       "...                             ...                     ...   \n",
       "CUS_0x372c                     4.10                   -0.90   \n",
       "CUS_0xf16                      5.69                    5.69   \n",
       "CUS_0xaf61                     5.38                    5.38   \n",
       "CUS_0x8600                    18.31                   23.31   \n",
       "CUS_0x942c                     9.50                   11.50   \n",
       "\n",
       "             Changed_Credit_Limit_x  Changed_Credit_Limit_y  \\\n",
       "Customer_ID                                                   \n",
       "CUS_0xd40                       NaN                    6.27   \n",
       "CUS_0x21b1                     5.42                    5.42   \n",
       "CUS_0x2dbc                    11.10                    9.10   \n",
       "CUS_0xb891                     1.99                   -2.01   \n",
       "CUS_0x1cdb                     2.58                    2.58   \n",
       "...                             ...                     ...   \n",
       "CUS_0x372c                    12.10                    5.10   \n",
       "CUS_0xf16                      5.69                    5.69   \n",
       "CUS_0xaf61                     5.38                    5.38   \n",
       "CUS_0x8600                    18.31                   18.31   \n",
       "CUS_0x942c                     9.50                   11.50   \n",
       "\n",
       "             Changed_Credit_Limit_x  Changed_Credit_Limit_y  \\\n",
       "Customer_ID                                                   \n",
       "CUS_0xd40                     11.27                    9.27   \n",
       "CUS_0x21b1                     6.42                    5.42   \n",
       "CUS_0x2dbc                     7.10                    7.10   \n",
       "CUS_0xb891                    -1.01                   -3.01   \n",
       "CUS_0x1cdb                     2.58                    2.58   \n",
       "...                             ...                     ...   \n",
       "CUS_0x372c                     5.10                    5.10   \n",
       "CUS_0xf16                      5.69                    0.69   \n",
       "CUS_0xaf61                     5.38                    5.38   \n",
       "CUS_0x8600                    18.31                   16.31   \n",
       "CUS_0x942c                    11.50                   11.50   \n",
       "\n",
       "             Changed_Credit_Limit_x  Changed_Credit_Limit_y  \n",
       "Customer_ID                                                  \n",
       "CUS_0xd40                     11.27                   11.27  \n",
       "CUS_0x21b1                     5.42                    5.42  \n",
       "CUS_0x2dbc                     7.10                    7.10  \n",
       "CUS_0xb891                     1.99                    1.99  \n",
       "CUS_0x1cdb                     2.58                    2.58  \n",
       "...                             ...                     ...  \n",
       "CUS_0x372c                     5.10                    5.10  \n",
       "CUS_0xf16                     11.69                    5.69  \n",
       "CUS_0xaf61                     5.38                    5.38  \n",
       "CUS_0x8600                    18.31                   18.31  \n",
       "CUS_0x942c                    11.50                   11.50  \n",
       "\n",
       "[12500 rows x 8 columns]"
      ]
     },
     "execution_count": 16,
     "metadata": {},
     "output_type": "execute_result"
    }
   ],
   "source": [
    "#Asi se ve el data set final para cada variable que vamos a reemplazar\n",
    "#(no te preocupes si se repite el nombre de la columna, python lo hace porque no tiene\n",
    "# otros nombres que agarrar, por eso me saltan advertencias en rosa arriba, pero no pasa nada oiga)\n",
    "#df_edad\n",
    "df_chlimit"
   ]
  },
  {
   "cell_type": "markdown",
   "id": "777b2eba",
   "metadata": {},
   "source": [
    "Hacemos series independientes para cada una de las variables a emplear para sacar modas"
   ]
  },
  {
   "cell_type": "code",
   "execution_count": 17,
   "id": "d11cd842",
   "metadata": {},
   "outputs": [],
   "source": [
    "#AGE\n",
    "#Cuando le sacamos la moda o promedio a las variables puede traer mas de una columna, en caso de que sea multimodal la variable\n",
    "#en nuestros datos esto puede pasar, por ejemplo si tenemos varios missing values y el Nan se vuele una moda\n",
    "#para eso, la segunda linea del codigo se queda solamente con la primera columna del df modes creado en la \n",
    "#primera linea del codigo de esta celda\n",
    "modes_age=df_edad.mode(axis='columns', numeric_only=True) #sacamos modas para cada row, dice columna pq la iteracion la hace sobre la columna\n",
    "modes_age=modes_age[0] #Solo conservamos la primera columna\n",
    "\n",
    "#OCCUPATION\n",
    "modes_occupation=df_ocupacion.mode(axis='columns', numeric_only=False) #sacamos modas para cada row, dice columna pq la iteracion la hace sobre la columna\n",
    "modes_occupation=modes_occupation[0] #Solo conservamos la primera columna\n",
    "\n",
    "\n",
    "#MONTHLY_INHAND_SALARY\n",
    "mean_salary=df_salario.mean(axis='columns', numeric_only=True) #sacamos modas para cada row, dice columna pq la iteracion la hace sobre la columna\n",
    "\n",
    "\n",
    "\n",
    "#NUM_BANK_ACCOUNT\n",
    "mode_account=df_cuentas.mode(axis='columns', numeric_only=True) #sacamos modas para cada row, dice columna pq la iteracion la hace sobre la columna\n",
    "mode_account=mode_account[0] #Solo conservamos la primera columna\n",
    "\n",
    "\n",
    "#NUM_CREDIT_CARDS\n",
    "mode_tdc=df_tdc.mode(axis='columns', numeric_only=True) #sacamos modas para cada row, dice columna pq la iteracion la hace sobre la columna\n",
    "mode_tdc=mode_tdc[0] #Solo conservamos la primera columna\n",
    "\n",
    "#INTEREST_RATE\n",
    "mode_ir=df_interes.mode(axis='columns', numeric_only=True) #sacamos modas para cada row, dice columna pq la iteracion la hace sobre la columna\n",
    "mode_ir=mode_ir[0] #Solo conservamos la primera columna\n",
    "\n",
    "#INUMOFLOAN\n",
    "mode_loan=df_loan.mode(axis='columns', numeric_only=True) #sacamos modas para cada row, dice columna pq la iteracion la hace sobre la columna\n",
    "mode_loan=mode_loan[0] #Solo conservamos la primera columna\n",
    "\n",
    "\n",
    "#NUM DELAYED\n",
    "mode_ndelayed=df_ndelayed.mode(axis='columns', numeric_only=True) #sacamos modas para cada row, dice columna pq la iteracion la hace sobre la columna\n",
    "mode_ndelayed=mode_ndelayed[0] #Solo conservamos la primera columna\n",
    "\n",
    "\n",
    "#Changed Limit\n",
    "mean_chlimit=df_chlimit.mode(axis='columns', numeric_only=False) #sacamos modas para cada row, dice columna pq la iteracion la hace sobre la columna\n",
    "mean_chlimit=mean_chlimit[0] #Solo conservamos la primera columna\n",
    "\n",
    "#Credit Inquiries\n",
    "mode_crinquiries=df_credinquiries.mode(axis='columns', numeric_only=False) #sacamos modas para cada row, dice columna pq la iteracion la hace sobre la columna\n",
    "mode_crinquiries=mode_crinquiries[0] #Solo conservamos la primera columna\n",
    "\n",
    "#Credit Inquiries\n",
    "mean_amount=df_amountinvested.mean(axis='columns', numeric_only=False) #sacamos modas para cada row, dice columna pq la iteracion la hace sobre la columna\n",
    "#Solo conservamos la primera columna\n"
   ]
  },
  {
   "cell_type": "markdown",
   "id": "af83c40c",
   "metadata": {},
   "source": [
    "Aqui sacamos algunas estadisticas de las modas para checar que todo esta en orden"
   ]
  },
  {
   "cell_type": "code",
   "execution_count": 18,
   "id": "f57e4059",
   "metadata": {},
   "outputs": [
    {
     "name": "stdout",
     "output_type": "stream",
     "text": [
      "Edades\n",
      "Maximum value: 56.0\n",
      "Minimum value 14.0\n",
      "Quantiles:\n",
      "0.1    19.0\n",
      "0.2    23.0\n",
      "0.3    26.0\n",
      "0.4    29.0\n",
      "0.5    33.0\n",
      "0.6    36.0\n",
      "0.7    40.0\n",
      "0.8    43.0\n",
      "0.9    48.0\n",
      "Name: 0, dtype: float64\n",
      "Number of non-missing modes: 12500\n",
      "\n"
     ]
    }
   ],
   "source": [
    "#checamos un poquito como quedaron las estadisticas de la moda para ver que no tenemos cosas extranias\n",
    "#AGE\n",
    "print('Edades\\nMaximum value: {}\\nMinimum value {}\\nQuantiles:\\n{}\\nNumber of non-missing modes: {}\\n'\n",
    "      .format(modes_age.max(), modes_age.min(),modes_age.quantile([.1,.2,.3,.4,.5,.6,.7,.8,.9]),modes_age.count().sum()))\n",
    "#aqui hago que la moda sea un int16\n",
    "modes_age=modes_age.astype('int16')"
   ]
  },
  {
   "cell_type": "code",
   "execution_count": 19,
   "id": "27d45c79",
   "metadata": {},
   "outputs": [
    {
     "name": "stdout",
     "output_type": "stream",
     "text": [
      " Ocupacion\n",
      "Numero de valores unicos: 16\n",
      "Number of nonmissing 12500\n",
      "Valores unicos:['Scientist', 'Teacher', 'Engineer', 'Entrepreneur', 'Developer', ..., 'Musician', 'Mechanic', 'Writer', 'Architect', 'Other']\n",
      "Length: 16\n",
      "Categories (16, object): ['Accountant', 'Architect', 'Developer', 'Doctor', ..., 'Other', 'Scientist', 'Teacher', 'Writer']\n",
      "Tipo de dato:category\n"
     ]
    }
   ],
   "source": [
    "#OCCUPATION\n",
    "#aqui hago que la moda sea un categorical\n",
    "modes_occupation=modes_occupation.astype('category')\n",
    "modes_occupation= modes_occupation.str.replace('_______', 'Other').astype('category')\n",
    "print(' Ocupacion\\nNumero de valores unicos: {}\\nNumber of nonmissing {}\\nValores unicos:{}\\nTipo de dato:{}'\n",
    "      .format(modes_occupation.nunique(),modes_occupation.count().sum(),modes_occupation.unique(),\n",
    "              modes_occupation.dtype))"
   ]
  },
  {
   "cell_type": "code",
   "execution_count": 20,
   "id": "a1d64614",
   "metadata": {},
   "outputs": [
    {
     "name": "stdout",
     "output_type": "stream",
     "text": [
      "Salario Mensual\n",
      "Maximum value: 15204.633333333331\n",
      "Minimum value 303.6454166666667\n",
      "Quantiles:\n",
      "0.1    1104.999417\n",
      "0.2    1468.770833\n",
      "0.3    1828.230000\n",
      "0.4    2564.813221\n",
      "0.5    3097.016667\n",
      "0.6    4043.413500\n",
      "0.7    5307.571250\n",
      "0.8    6718.426333\n",
      "0.9    9127.985667\n",
      "dtype: float64\n",
      "Number of non-missing modes: 12500\n",
      "\n"
     ]
    }
   ],
   "source": [
    "#checamos un poquito como quedaron las estadisticas de la moda para ver que no tenemos cosas extranias\n",
    "#MONTHLY_INHAND_SALARY\n",
    "print('Salario Mensual\\nMaximum value: {}\\nMinimum value {}\\nQuantiles:\\n{}\\nNumber of non-missing modes: {}\\n'\n",
    "      .format(mean_salary.max(), mean_salary.min(),mean_salary.quantile([.1,.2,.3,.4,.5,.6,.7,.8,.9]),mean_salary.count().sum()))\n",
    "#aqui hago que la moda sea un int16\n",
    "mean_salary=mean_salary.astype('float16')\n"
   ]
  },
  {
   "cell_type": "code",
   "execution_count": 21,
   "id": "2910b579",
   "metadata": {},
   "outputs": [
    {
     "name": "stdout",
     "output_type": "stream",
     "text": [
      "Salario Mensual\n",
      "Maximum value: 10.0\n",
      "Minimum value -1.0\n",
      "Quantiles:\n",
      "0.1    2.0\n",
      "0.2    3.0\n",
      "0.3    4.0\n",
      "0.4    5.0\n",
      "0.5    5.0\n",
      "0.6    6.0\n",
      "0.7    7.0\n",
      "0.8    8.0\n",
      "0.9    9.0\n",
      "Name: 0, dtype: float64\n",
      "Number of non-missing modes: 12500\n",
      "\n"
     ]
    }
   ],
   "source": [
    "#checamos un poquito como quedaron las estadisticas de la moda para ver que no tenemos cosas extranias\n",
    "#NUMBER_BANK_ACCOUNTS\n",
    "print('Salario Mensual\\nMaximum value: {}\\nMinimum value {}\\nQuantiles:\\n{}\\nNumber of non-missing modes: {}\\n'\n",
    "      .format(mode_account.max(), mode_account.min(),mode_account.quantile([.1,.2,.3,.4,.5,.6,.7,.8,.9]),mode_account.count().sum()))\n",
    "#aqui hago que la moda sea un int16\n",
    "mode_account=mode_account.astype('int16')\n"
   ]
  },
  {
   "cell_type": "code",
   "execution_count": 22,
   "id": "20f0faa2",
   "metadata": {},
   "outputs": [
    {
     "name": "stdout",
     "output_type": "stream",
     "text": [
      "Tarjetas de Credito\n",
      "Maximum value: 11.0\n",
      "Minimum value 0.0\n",
      "Quantiles:\n",
      "0.1    3.0\n",
      "0.2    4.0\n",
      "0.3    4.0\n",
      "0.4    5.0\n",
      "0.5    5.0\n",
      "0.6    6.0\n",
      "0.7    7.0\n",
      "0.8    7.0\n",
      "0.9    8.0\n",
      "Name: 0, dtype: float64\n",
      "Number of non-missing modes: 12500\n",
      "\n"
     ]
    }
   ],
   "source": [
    "#checamos un poquito como quedaron las estadisticas de la moda para ver que no tenemos cosas extranias\n",
    "#NUMBER_CREDIT_CARD\n",
    "print('Tarjetas de Credito\\nMaximum value: {}\\nMinimum value {}\\nQuantiles:\\n{}\\nNumber of non-missing modes: {}\\n'\n",
    "      .format(mode_tdc.max(), mode_tdc.min(),mode_tdc.quantile([.1,.2,.3,.4,.5,.6,.7,.8,.9]),mode_tdc.count().sum()))\n",
    "#aqui hago que la moda sea un int16\n",
    "mode_tdc=mode_tdc.astype('int16')\n"
   ]
  },
  {
   "cell_type": "code",
   "execution_count": 23,
   "id": "943fcded",
   "metadata": {},
   "outputs": [
    {
     "name": "stdout",
     "output_type": "stream",
     "text": [
      "Tasa de interes\n",
      "Maximum value: 34\n",
      "Minimum value 1\n",
      "Quantiles:\n",
      "0.1     4.0\n",
      "0.2     6.0\n",
      "0.3     8.0\n",
      "0.4    11.0\n",
      "0.5    13.0\n",
      "0.6    16.0\n",
      "0.7    19.0\n",
      "0.8    22.0\n",
      "1.0    34.0\n",
      "Name: 0, dtype: float64\n",
      "Number of non-missing modes: 12500\n",
      "\n"
     ]
    }
   ],
   "source": [
    "#checamos un poquito como quedaron las estadisticas de la moda para ver que no tenemos cosas extranias\n",
    "#ITNEREST_RATE\n",
    "print('Tasa de interes\\nMaximum value: {}\\nMinimum value {}\\nQuantiles:\\n{}\\nNumber of non-missing modes: {}\\n'\n",
    "      .format(mode_ir.max(), mode_ir.min(),mode_ir.quantile([.1,.2,.3,.4,.5,.6,.7,.8,1]),mode_ir.count().sum()))\n",
    "#aqui hago que la moda sea un int16\n",
    "mode_ir=mode_ir.astype('int16')\n"
   ]
  },
  {
   "cell_type": "code",
   "execution_count": 24,
   "id": "1118ab59",
   "metadata": {},
   "outputs": [
    {
     "name": "stdout",
     "output_type": "stream",
     "text": [
      "Numero de Creditos\n",
      "Maximum value: 9.0\n",
      "Minimum value 0.0\n",
      "Quantiles:\n",
      "0.1    0.0\n",
      "0.2    1.0\n",
      "0.3    2.0\n",
      "0.4    3.0\n",
      "0.5    3.0\n",
      "0.6    4.0\n",
      "0.7    5.0\n",
      "0.8    6.0\n",
      "1.0    9.0\n",
      "Name: 0, dtype: float64\n",
      "Number of non-missing modes: 12500\n",
      "\n"
     ]
    }
   ],
   "source": [
    "#checamos un poquito como quedaron las estadisticas de la moda para ver que no tenemos cosas extranias\n",
    "#NUM_LOAN\n",
    "print('Numero de Creditos\\nMaximum value: {}\\nMinimum value {}\\nQuantiles:\\n{}\\nNumber of non-missing modes: {}\\n'\n",
    "      .format(mode_loan.max(), mode_loan.min(),mode_loan.quantile([.1,.2,.3,.4,.5,.6,.7,.8,1]),mode_loan.count().sum()))\n",
    "#aqui hago que la moda sea un int16\n",
    "mode_loan=mode_loan.astype('int16')\n"
   ]
  },
  {
   "cell_type": "code",
   "execution_count": 25,
   "id": "13e25c5c",
   "metadata": {},
   "outputs": [
    {
     "name": "stdout",
     "output_type": "stream",
     "text": [
      "Numero de retrasos\n",
      "Maximum value: 28.0\n",
      "Minimum value -2.0\n",
      "Quantiles:\n",
      "0.1     4.0\n",
      "0.2     8.0\n",
      "0.3    10.0\n",
      "0.4    12.0\n",
      "0.5    14.0\n",
      "0.6    16.0\n",
      "0.7    17.0\n",
      "0.8    19.0\n",
      "1.0    28.0\n",
      "Name: 0, dtype: float64\n",
      "Number of non-missing modes: 12500\n",
      "\n"
     ]
    }
   ],
   "source": [
    "#checamos un poquito como quedaron las estadisticas de la moda para ver que no tenemos cosas extranias\n",
    "#NUM_NDELAYED\n",
    "print('Numero de retrasos\\nMaximum value: {}\\nMinimum value {}\\nQuantiles:\\n{}\\nNumber of non-missing modes: {}\\n'\n",
    "      .format(mode_ndelayed.max(), mode_ndelayed.min(),mode_ndelayed.quantile([.1,.2,.3,.4,.5,.6,.7,.8,1]),mode_ndelayed.count().sum()))\n",
    "#aqui hago que la moda sea un int16\n",
    "mode_ndelayed=mode_ndelayed.astype('int16')\n"
   ]
  },
  {
   "cell_type": "code",
   "execution_count": 26,
   "id": "ca02ed1d",
   "metadata": {},
   "outputs": [
    {
     "name": "stdout",
     "output_type": "stream",
     "text": [
      "Chambio de limite\n",
      "Maximum value: 29.98\n",
      "Minimum value -5.01\n",
      "Quantiles:\n",
      "0.1     2.50\n",
      "0.2     4.50\n",
      "0.3     6.52\n",
      "0.4     8.03\n",
      "0.5     9.34\n",
      "0.6    10.82\n",
      "0.7    12.69\n",
      "0.8    16.25\n",
      "1.0    29.98\n",
      "Name: 0, dtype: float64\n",
      "Number of non-missing modes: 12500\n",
      "\n"
     ]
    }
   ],
   "source": [
    "#checamos un poquito como quedaron las estadisticas de la moda para ver que no tenemos cosas extranias\n",
    "#NUM_NDELAYED\n",
    "print('Chambio de limite\\nMaximum value: {}\\nMinimum value {}\\nQuantiles:\\n{}\\nNumber of non-missing modes: {}\\n'\n",
    "      .format(mean_chlimit.max(), mean_chlimit.min(),mean_chlimit.quantile([.1,.2,.3,.4,.5,.6,.7,.8,1]),mean_chlimit.count().sum()))\n",
    "#aqui hago que la moda sea un int16\n",
    "#mean_chlimit=mean_chlimit.astype('float64')\n"
   ]
  },
  {
   "cell_type": "code",
   "execution_count": 27,
   "id": "f9a99b23",
   "metadata": {},
   "outputs": [
    {
     "name": "stdout",
     "output_type": "stream",
     "text": [
      "Numero de credit inquiries\n",
      "Maximum value: 17.0\n",
      "Minimum value 0.0\n",
      "Quantiles:\n",
      "0.1     1.0\n",
      "0.2     2.0\n",
      "0.3     3.0\n",
      "0.4     4.0\n",
      "0.5     5.0\n",
      "0.6     7.0\n",
      "0.7     8.0\n",
      "0.8     9.0\n",
      "1.0    17.0\n",
      "Name: 0, dtype: float64\n",
      "Number of non-missing modes: 12500\n",
      "\n"
     ]
    }
   ],
   "source": [
    "#checamos un poquito como quedaron las estadisticas de la moda para ver que no tenemos cosas extranias\n",
    "#NUM_NDELAYED\n",
    "print('Numero de credit inquiries\\nMaximum value: {}\\nMinimum value {}\\nQuantiles:\\n{}\\nNumber of non-missing modes: {}\\n'\n",
    "      .format(mode_crinquiries.max(), mode_crinquiries.min(),mode_crinquiries.quantile([.1,.2,.3,.4,.5,.6,.7,.8,1]),mode_crinquiries.count().sum()))\n",
    "#aqui hago que la moda sea un int16\n",
    "mode_crinquiries=mode_crinquiries.astype('float64')\n"
   ]
  },
  {
   "cell_type": "code",
   "execution_count": 28,
   "id": "c2b88075",
   "metadata": {},
   "outputs": [
    {
     "name": "stdout",
     "output_type": "stream",
     "text": [
      "Amount Invested Monthly\n",
      "Maximum value: 5748.505316438631\n",
      "Minimum value 15.292435520009905\n",
      "Quantiles:\n",
      "0.1      78.775647\n",
      "0.2     103.998903\n",
      "0.3     133.377873\n",
      "0.4     174.331941\n",
      "0.5     233.589940\n",
      "0.6     330.461632\n",
      "0.7     694.001790\n",
      "0.8    1389.135387\n",
      "1.0    5748.505316\n",
      "dtype: float64\n",
      "Number of non-missing modes: 12500\n",
      "\n"
     ]
    }
   ],
   "source": [
    "#checamos un poquito como quedaron las estadisticas de la moda para ver que no tenemos cosas extranias\n",
    "#NUM_NDELAYED\n",
    "print('Amount Invested Monthly\\nMaximum value: {}\\nMinimum value {}\\nQuantiles:\\n{}\\nNumber of non-missing modes: {}\\n'\n",
    "      .format(mean_amount.max(), mean_amount.min(),mean_amount.quantile([.1,.2,.3,.4,.5,.6,.7,.8,1]),mean_amount.count().sum()))\n",
    "#aqui hago que la moda sea un int16\n",
    "mean_amount=mean_amount.astype('float64')\n"
   ]
  },
  {
   "cell_type": "markdown",
   "id": "7c402eb6",
   "metadata": {},
   "source": [
    "### Merges finales para quitar missings y outliers no naturales (errores no relacionados con la distribucion)"
   ]
  },
  {
   "cell_type": "code",
   "execution_count": 29,
   "id": "aae8abaa",
   "metadata": {},
   "outputs": [],
   "source": [
    "#AGE\n",
    "#ojo estos pasos se hace en celdas separadas para cada variable debido a que en cada variable la moda \n",
    "#se queda guardada como cero, una minucia. \n",
    "#En esta linea juntamos los resultados\n",
    "Enero_train = pd.merge(enero, modes_age, on=\"Customer_ID\", how=\"left\")\n",
    "#en esta linea le pongo nombre correcto a la columna que acabo de meter la moda esta guardada como cero\n",
    "Enero_train.rename(columns={0:\"Moda_edad\"},inplace=True)\n",
    "#si quieres ver que esta pasando quitale el # a la ultima linea\n",
    "#Enero_train"
   ]
  },
  {
   "cell_type": "code",
   "execution_count": 30,
   "id": "57ccc8de",
   "metadata": {},
   "outputs": [],
   "source": [
    "#SOLVING Num_of_Loan\n",
    "def cut_outliers(x,y):\n",
    "    if (x>=0) & (x<=y): #cuando apliques esta funcion pon el valor del quantil 98\n",
    "        #El minimo lo dejo como cero porque por ahora no hay ninguna cantidad que pueda/deba tener negativos\n",
    "        return x  \n",
    "    else:\n",
    "        return None"
   ]
  },
  {
   "cell_type": "code",
   "execution_count": 31,
   "id": "8923aeb1",
   "metadata": {},
   "outputs": [],
   "source": [
    "Enero_train['Age'] = Enero_train.apply(lambda x: cut_outliers(x['Age'],100), axis=1)"
   ]
  },
  {
   "cell_type": "code",
   "execution_count": 32,
   "id": "8bad8907",
   "metadata": {},
   "outputs": [
    {
     "data": {
      "text/plain": [
       "0"
      ]
     },
     "execution_count": 32,
     "metadata": {},
     "output_type": "execute_result"
    }
   ],
   "source": [
    "Enero_train['Age'].fillna(Enero_train['Moda_edad'],inplace=True)\n",
    "Enero_train['Age'].isna().sum()"
   ]
  },
  {
   "cell_type": "code",
   "execution_count": 33,
   "id": "b9b596a3",
   "metadata": {},
   "outputs": [
    {
     "data": {
      "text/plain": [
       "0"
      ]
     },
     "execution_count": 33,
     "metadata": {},
     "output_type": "execute_result"
    }
   ],
   "source": [
    "Enero_train['Age'].fillna(Enero_train['Moda_edad'],inplace=True)\n",
    "Enero_train['Age'].isna().sum()"
   ]
  },
  {
   "cell_type": "code",
   "execution_count": 34,
   "id": "84712746",
   "metadata": {},
   "outputs": [
    {
     "data": {
      "text/plain": [
       "(array([2.563e+03, 2.872e+03, 2.942e+03, 2.600e+03, 1.351e+03, 1.710e+02,\n",
       "        0.000e+00, 0.000e+00, 0.000e+00, 1.000e+00]),\n",
       " array([14. , 22.1, 30.2, 38.3, 46.4, 54.5, 62.6, 70.7, 78.8, 86.9, 95. ]),\n",
       " <BarContainer object of 10 artists>)"
      ]
     },
     "execution_count": 34,
     "metadata": {},
     "output_type": "execute_result"
    },
    {
     "data": {
      "image/png": "[encoded data removed]",
      "text/plain": [
       "<Figure size 1440x504 with 1 Axes>"
      ]
     },
     "metadata": {
      "needs_background": "light"
     },
     "output_type": "display_data"
    }
   ],
   "source": [
    "fig = plt.figure(1, figsize=(20, 7))\n",
    "plt.hist(Enero_train['Age'])"
   ]
  },
  {
   "cell_type": "code",
   "execution_count": 35,
   "id": "9b527df3",
   "metadata": {},
   "outputs": [],
   "source": [
    "#OCCUPATION\n",
    "Enero_train = pd.merge(Enero_train, modes_occupation, on=\"Customer_ID\", how=\"left\")\n",
    "#en esta linea le pongo nombre correcto a la columna que acabo de meter la moda esta guardada como cero\n",
    "Enero_train.rename(columns={0:\"Moda_Ocupacion\"},inplace=True)\n",
    "Enero_train['Occupation'].fillna(Enero_train['Moda_Ocupacion'],inplace=True)\n",
    "Enero_train['Occupation']= Enero_train['Occupation'].str.replace('_______', 'Other').astype('category')"
   ]
  },
  {
   "cell_type": "code",
   "execution_count": 36,
   "id": "45a8b177",
   "metadata": {},
   "outputs": [
    {
     "data": {
      "text/plain": [
       "0"
      ]
     },
     "execution_count": 36,
     "metadata": {},
     "output_type": "execute_result"
    }
   ],
   "source": [
    "Enero_train['Occupation'].isna().sum()"
   ]
  },
  {
   "cell_type": "code",
   "execution_count": 37,
   "id": "5dba2ccc",
   "metadata": {
    "scrolled": true
   },
   "outputs": [
    {
     "data": {
      "text/plain": [
       "(array([1621.,  779., 1597.,  788., 1530.,  784., 1543.,  782., 1531.,\n",
       "        1545.]),\n",
       " array([ 0. ,  1.5,  3. ,  4.5,  6. ,  7.5,  9. , 10.5, 12. , 13.5, 15. ]),\n",
       " <BarContainer object of 10 artists>)"
      ]
     },
     "execution_count": 37,
     "metadata": {},
     "output_type": "execute_result"
    },
    {
     "data": {
      "image/png": "[encoded data removed]",
      "text/plain": [
       "<Figure size 1440x504 with 1 Axes>"
      ]
     },
     "metadata": {
      "needs_background": "light"
     },
     "output_type": "display_data"
    }
   ],
   "source": [
    "fig = plt.figure(1, figsize=(20, 7))\n",
    "plt.hist(Enero_train['Occupation'])"
   ]
  },
  {
   "cell_type": "code",
   "execution_count": 38,
   "id": "7ffdf32e",
   "metadata": {},
   "outputs": [],
   "source": [
    "#SALARY\n",
    "Enero_train = pd.merge(Enero_train, mean_salary.to_frame(), on=\"Customer_ID\", how=\"left\")\n",
    "#en esta linea le pongo nombre correcto a la columna que acabo de meter el promedio esta guardada como cero\n",
    "Enero_train.rename(columns={0:\"Promedio_salario\"},inplace=True)\n",
    "Enero_train['Monthly_Inhand_Salary'].fillna(Enero_train['Promedio_salario'],inplace=True)"
   ]
  },
  {
   "cell_type": "code",
   "execution_count": 39,
   "id": "d6a084eb",
   "metadata": {},
   "outputs": [
    {
     "data": {
      "text/plain": [
       "0"
      ]
     },
     "execution_count": 39,
     "metadata": {},
     "output_type": "execute_result"
    }
   ],
   "source": [
    "Enero_train['Monthly_Inhand_Salary'].isna().sum()"
   ]
  },
  {
   "cell_type": "code",
   "execution_count": 40,
   "id": "91e5115f",
   "metadata": {},
   "outputs": [
    {
     "data": {
      "text/plain": [
       "(array([3665., 2892., 1553., 1530.,  998.,  662.,  544.,  363.,  154.,\n",
       "         139.]),\n",
       " array([  303.64541667,  1793.74420833,  3283.843     ,  4773.94179167,\n",
       "         6264.04058333,  7754.139375  ,  9244.23816667, 10734.33695833,\n",
       "        12224.43575   , 13714.53454167, 15204.63333333]),\n",
       " <BarContainer object of 10 artists>)"
      ]
     },
     "execution_count": 40,
     "metadata": {},
     "output_type": "execute_result"
    },
    {
     "data": {
      "image/png": "[encoded data removed]",
      "text/plain": [
       "<Figure size 504x504 with 1 Axes>"
      ]
     },
     "metadata": {
      "needs_background": "light"
     },
     "output_type": "display_data"
    }
   ],
   "source": [
    "fig = plt.figure(1, figsize=(7, 7))\n",
    "plt.hist(Enero_train['Monthly_Inhand_Salary'])"
   ]
  },
  {
   "cell_type": "code",
   "execution_count": 41,
   "id": "ae0c5358",
   "metadata": {},
   "outputs": [],
   "source": [
    "#NUMBER_ACCOUNT\n",
    "Enero_train = pd.merge(Enero_train, mode_account, on=\"Customer_ID\", how=\"left\")\n",
    "Enero_train.rename(columns={0:'Moda_cuentas'},inplace=True)"
   ]
  },
  {
   "cell_type": "code",
   "execution_count": 42,
   "id": "8e4d55d6",
   "metadata": {},
   "outputs": [
    {
     "data": {
      "text/plain": [
       "10.0"
      ]
     },
     "execution_count": 42,
     "metadata": {},
     "output_type": "execute_result"
    }
   ],
   "source": [
    "#Arreglar outliers con funcion cut outliers\n",
    "#1) Calcular quantiles\n",
    "Enero_train['Num_Bank_Accounts'].quantile(.98)"
   ]
  },
  {
   "cell_type": "code",
   "execution_count": 43,
   "id": "cd4ce129",
   "metadata": {},
   "outputs": [],
   "source": [
    "Enero_train['Num_Bank_Accounts'] = Enero_train.apply(lambda x: cut_outliers(x['Num_Bank_Accounts'],10), axis=1)"
   ]
  },
  {
   "cell_type": "code",
   "execution_count": 44,
   "id": "6a3a3b26",
   "metadata": {},
   "outputs": [
    {
     "data": {
      "text/plain": [
       "0"
      ]
     },
     "execution_count": 44,
     "metadata": {},
     "output_type": "execute_result"
    }
   ],
   "source": [
    "Enero_train['Num_Bank_Accounts'].fillna(Enero_train['Moda_cuentas'],inplace=True)\n",
    "Enero_train['Num_Bank_Accounts'].isna().sum()"
   ]
  },
  {
   "cell_type": "code",
   "execution_count": 45,
   "id": "6e7cc2f9",
   "metadata": {},
   "outputs": [
    {
     "data": {
      "text/plain": [
       "(array([ 556.,  562.,  540., 1517., 1549., 1531., 1649., 1628., 1616.,\n",
       "        1352.]),\n",
       " array([ 0.,  1.,  2.,  3.,  4.,  5.,  6.,  7.,  8.,  9., 10.]),\n",
       " <BarContainer object of 10 artists>)"
      ]
     },
     "execution_count": 45,
     "metadata": {},
     "output_type": "execute_result"
    },
    {
     "data": {
      "image/png": "[encoded data removed]",
      "text/plain": [
       "<Figure size 504x504 with 1 Axes>"
      ]
     },
     "metadata": {
      "needs_background": "light"
     },
     "output_type": "display_data"
    }
   ],
   "source": [
    "fig = plt.figure(1, figsize=(7, 7))\n",
    "plt.hist(Enero_train['Num_Bank_Accounts'])"
   ]
  },
  {
   "cell_type": "code",
   "execution_count": 46,
   "id": "d472f778",
   "metadata": {},
   "outputs": [],
   "source": [
    "#NUMBER_CREDIT_CARD\n",
    "Enero_train = pd.merge(Enero_train, mode_tdc, on=\"Customer_ID\", how=\"left\")\n",
    "Enero_train.rename(columns={0:'Moda_tdc'},inplace=True)"
   ]
  },
  {
   "cell_type": "code",
   "execution_count": 47,
   "id": "e2162ac0",
   "metadata": {},
   "outputs": [
    {
     "data": {
      "text/plain": [
       "10.0"
      ]
     },
     "execution_count": 47,
     "metadata": {},
     "output_type": "execute_result"
    }
   ],
   "source": [
    "#Arreglar outliers con funcion cut outliers\n",
    "#1) Calcular quantiles\n",
    "Enero_train['Num_Credit_Card'].quantile(.97)"
   ]
  },
  {
   "cell_type": "code",
   "execution_count": 48,
   "id": "ae4d4aa0",
   "metadata": {},
   "outputs": [],
   "source": [
    "Enero_train['Num_Credit_Card'] = Enero_train.apply(lambda x: cut_outliers(x['Num_Credit_Card'],10), axis=1)"
   ]
  },
  {
   "cell_type": "code",
   "execution_count": 49,
   "id": "83256e02",
   "metadata": {},
   "outputs": [],
   "source": [
    "Enero_train['Num_Credit_Card'].isna().sum()\n",
    "Enero_train['Num_Credit_Card'].fillna(Enero_train['Moda_tdc'],inplace=True)"
   ]
  },
  {
   "cell_type": "code",
   "execution_count": 50,
   "id": "0e8c238f",
   "metadata": {},
   "outputs": [
    {
     "data": {
      "text/plain": [
       "(array([ 275.,  268., 1702., 1796., 2362., 2114., 2139.,  629.,  594.,\n",
       "         621.]),\n",
       " array([ 1. ,  1.9,  2.8,  3.7,  4.6,  5.5,  6.4,  7.3,  8.2,  9.1, 10. ]),\n",
       " <BarContainer object of 10 artists>)"
      ]
     },
     "execution_count": 50,
     "metadata": {},
     "output_type": "execute_result"
    },
    {
     "data": {
      "image/png": "[encoded data removed]",
      "text/plain": [
       "<Figure size 504x504 with 1 Axes>"
      ]
     },
     "metadata": {
      "needs_background": "light"
     },
     "output_type": "display_data"
    }
   ],
   "source": [
    "fig = plt.figure(1, figsize=(7, 7))\n",
    "plt.hist(Enero_train['Num_Credit_Card'])"
   ]
  },
  {
   "cell_type": "code",
   "execution_count": 51,
   "id": "1155f8d7",
   "metadata": {},
   "outputs": [
    {
     "name": "stdout",
     "output_type": "stream",
     "text": [
      "0\n",
      "34.0\n"
     ]
    }
   ],
   "source": [
    "#INTEREST_RATE\n",
    "Enero_train = pd.merge(Enero_train, mode_ir, on=\"Customer_ID\", how=\"left\")\n",
    "Enero_train.rename(columns={0:'Moda_ir'},inplace=True)\n",
    "print(Enero_train['Interest_Rate'].isna().sum())\n",
    "print(Enero_train[\"Interest_Rate\"].quantile(.98))"
   ]
  },
  {
   "cell_type": "code",
   "execution_count": 52,
   "id": "2ba0fef9",
   "metadata": {
    "scrolled": true
   },
   "outputs": [
    {
     "name": "stdout",
     "output_type": "stream",
     "text": [
      "0\n"
     ]
    },
    {
     "data": {
      "text/plain": [
       "(array([1341., 1814., 1787., 1733., 1470., 1488.,  850.,  597.,  634.,\n",
       "         786.]),\n",
       " array([ 1. ,  4.3,  7.6, 10.9, 14.2, 17.5, 20.8, 24.1, 27.4, 30.7, 34. ]),\n",
       " <BarContainer object of 10 artists>)"
      ]
     },
     "execution_count": 52,
     "metadata": {},
     "output_type": "execute_result"
    },
    {
     "data": {
      "image/png": "[encoded data removed]",
      "text/plain": [
       "<Figure size 504x504 with 1 Axes>"
      ]
     },
     "metadata": {
      "needs_background": "light"
     },
     "output_type": "display_data"
    }
   ],
   "source": [
    "Enero_train['Interest_Rate'] = Enero_train.apply(lambda x: cut_outliers(x['Interest_Rate'],35), axis=1)\n",
    "Enero_train['Interest_Rate'].fillna(Enero_train['Moda_ir'],inplace=True)\n",
    "print(Enero_train['Interest_Rate'].isna().sum())\n",
    "fig = plt.figure(1, figsize=(7, 7))\n",
    "plt.hist(Enero_train['Interest_Rate'])"
   ]
  },
  {
   "cell_type": "markdown",
   "id": "62d714c9",
   "metadata": {},
   "source": [
    "### NUM OF LOAN"
   ]
  },
  {
   "cell_type": "code",
   "execution_count": 53,
   "id": "a6ad2b4f",
   "metadata": {},
   "outputs": [
    {
     "name": "stdout",
     "output_type": "stream",
     "text": [
      "0\n",
      "9.0\n"
     ]
    }
   ],
   "source": [
    "#INTEREST_RATE\n",
    "Enero_train = pd.merge(Enero_train, mode_loan, on=\"Customer_ID\", how=\"left\")\n",
    "Enero_train.rename(columns={0:'Moda_loan'},inplace=True)\n",
    "print(Enero_train['Num_of_Loan'].isna().sum())\n",
    "print(Enero_train[\"Num_of_Loan\"].quantile(.98))"
   ]
  },
  {
   "cell_type": "code",
   "execution_count": 54,
   "id": "9793d8ce",
   "metadata": {
    "scrolled": false
   },
   "outputs": [
    {
     "name": "stdout",
     "output_type": "stream",
     "text": [
      "0\n"
     ]
    },
    {
     "data": {
      "text/plain": [
       "(array([1426., 1391., 1964., 1969., 1932.,  941., 1018.,  960.,  417.,\n",
       "         482.]),\n",
       " array([0. , 0.9, 1.8, 2.7, 3.6, 4.5, 5.4, 6.3, 7.2, 8.1, 9. ]),\n",
       " <BarContainer object of 10 artists>)"
      ]
     },
     "execution_count": 54,
     "metadata": {},
     "output_type": "execute_result"
    },
    {
     "data": {
      "image/png": "[encoded data removed]",
      "text/plain": [
       "<Figure size 504x504 with 1 Axes>"
      ]
     },
     "metadata": {
      "needs_background": "light"
     },
     "output_type": "display_data"
    }
   ],
   "source": [
    "Enero_train['Num_of_Loan'] = Enero_train.apply(lambda x: cut_outliers(x['Num_of_Loan'],10), axis=1)\n",
    "Enero_train['Num_of_Loan'].fillna(Enero_train['Moda_loan'],inplace=True)\n",
    "print(Enero_train['Num_of_Loan'].isna().sum())\n",
    "fig = plt.figure(1, figsize=(7, 7))\n",
    "plt.hist(Enero_train['Num_of_Loan'])"
   ]
  },
  {
   "cell_type": "markdown",
   "id": "6aee7771",
   "metadata": {},
   "source": [
    "### Delay from Due Date"
   ]
  },
  {
   "cell_type": "code",
   "execution_count": 55,
   "id": "b92da714",
   "metadata": {},
   "outputs": [
    {
     "name": "stdout",
     "output_type": "stream",
     "text": [
      "count    12500.000000\n",
      "mean        21.051440\n",
      "std         14.859994\n",
      "min         -5.000000\n",
      "25%         10.000000\n",
      "50%         18.000000\n",
      "75%         28.000000\n",
      "max         67.000000\n",
      "Name: Delay_from_due_date, dtype: float64\n",
      "0\n"
     ]
    }
   ],
   "source": [
    "print(Enero_train['Delay_from_due_date'].describe())\n",
    "print(Enero_train['Delay_from_due_date'].isna().sum())"
   ]
  },
  {
   "cell_type": "code",
   "execution_count": 56,
   "id": "2ae0c4a6",
   "metadata": {},
   "outputs": [
    {
     "data": {
      "text/plain": [
       "(array([ 558., 2425., 2813., 2171., 2162.,  651.,  494.,  504.,  499.,\n",
       "         223.]),\n",
       " array([-5. ,  2.2,  9.4, 16.6, 23.8, 31. , 38.2, 45.4, 52.6, 59.8, 67. ]),\n",
       " <BarContainer object of 10 artists>)"
      ]
     },
     "execution_count": 56,
     "metadata": {},
     "output_type": "execute_result"
    },
    {
     "data": {
      "image/png": "[encoded data removed]",
      "text/plain": [
       "<Figure size 504x504 with 1 Axes>"
      ]
     },
     "metadata": {
      "needs_background": "light"
     },
     "output_type": "display_data"
    }
   ],
   "source": [
    "fig = plt.figure(1, figsize=(7, 7))\n",
    "plt.hist(Enero_train['Delay_from_due_date'])"
   ]
  },
  {
   "cell_type": "markdown",
   "id": "5c4e56a1",
   "metadata": {},
   "source": [
    "### Number of Delayed Payments"
   ]
  },
  {
   "cell_type": "code",
   "execution_count": 57,
   "id": "2e3b2b5f",
   "metadata": {},
   "outputs": [
    {
     "name": "stdout",
     "output_type": "stream",
     "text": [
      "843\n",
      "25.0\n"
     ]
    }
   ],
   "source": [
    "#N DELAY\n",
    "Enero_train = pd.merge(Enero_train, mode_ndelayed, on=\"Customer_ID\", how=\"left\")\n",
    "Enero_train.rename(columns={0:'Moda_ndelay'},inplace=True)\n",
    "print(Enero_train['Num_of_Delayed_Payment'].isna().sum())\n",
    "print(Enero_train[\"Num_of_Delayed_Payment\"].quantile(.98))"
   ]
  },
  {
   "cell_type": "code",
   "execution_count": 58,
   "id": "a8541d62",
   "metadata": {},
   "outputs": [
    {
     "name": "stdout",
     "output_type": "stream",
     "text": [
      "0\n"
     ]
    },
    {
     "data": {
      "text/plain": [
       "(array([ 269.,  782.,  814., 1676., 2097., 1788., 2141., 1803.,  813.,\n",
       "         317.]),\n",
       " array([-2.,  1.,  4.,  7., 10., 13., 16., 19., 22., 25., 28.]),\n",
       " <BarContainer object of 10 artists>)"
      ]
     },
     "execution_count": 58,
     "metadata": {},
     "output_type": "execute_result"
    },
    {
     "data": {
      "image/png": "[encoded data removed]",
      "text/plain": [
       "<Figure size 504x504 with 1 Axes>"
      ]
     },
     "metadata": {
      "needs_background": "light"
     },
     "output_type": "display_data"
    }
   ],
   "source": [
    "Enero_train['Num_of_Delayed_Payment'] = Enero_train.apply(lambda x: cut_outliers(x['Num_of_Delayed_Payment'],30), axis=1)\n",
    "Enero_train['Num_of_Delayed_Payment'].fillna(Enero_train['Moda_ndelay'],inplace=True)\n",
    "print(Enero_train['Num_of_Delayed_Payment'].isna().sum())\n",
    "fig = plt.figure(1, figsize=(7, 7))\n",
    "plt.hist(Enero_train['Num_of_Delayed_Payment'])"
   ]
  },
  {
   "cell_type": "markdown",
   "id": "35861308",
   "metadata": {},
   "source": [
    "### Changed Credit Limit"
   ]
  },
  {
   "cell_type": "code",
   "execution_count": 59,
   "id": "23855b1f",
   "metadata": {},
   "outputs": [],
   "source": [
    "Enero_train = pd.merge(Enero_train, mean_chlimit, on=\"Customer_ID\", how=\"left\")\n",
    "Enero_train.rename(columns={0:'Mean_chlimit'},inplace=True)\n",
    "#Enero_train['Changed_Credit_Limit'] = Enero_train.apply(lambda x: cut_outliers(x['Changed_Credit_Limit'],30), axis=1)\n",
    "Enero_train['Changed_Credit_Limit'].fillna(Enero_train['Mean_chlimit'],inplace=True)"
   ]
  },
  {
   "cell_type": "code",
   "execution_count": 60,
   "id": "76b74fee",
   "metadata": {},
   "outputs": [
    {
     "name": "stdout",
     "output_type": "stream",
     "text": [
      "0 -6.43 36.49\n"
     ]
    },
    {
     "data": {
      "text/plain": [
       "(array([  89., 1077., 2613., 3526., 2148., 1755.,  683.,  400.,  192.,\n",
       "          17.]),\n",
       " array([-6.43 , -2.138,  2.154,  6.446, 10.738, 15.03 , 19.322, 23.614,\n",
       "        27.906, 32.198, 36.49 ]),\n",
       " <BarContainer object of 10 artists>)"
      ]
     },
     "execution_count": 60,
     "metadata": {},
     "output_type": "execute_result"
    },
    {
     "data": {
      "image/png": "[encoded data removed]",
      "text/plain": [
       "<Figure size 504x504 with 1 Axes>"
      ]
     },
     "metadata": {
      "needs_background": "light"
     },
     "output_type": "display_data"
    }
   ],
   "source": [
    "print(Enero_train['Changed_Credit_Limit'].isna().sum(),\n",
    "      Enero_train['Changed_Credit_Limit'].min(),\n",
    "     Enero_train['Changed_Credit_Limit'].max())\n",
    "fig = plt.figure(1, figsize=(7, 7))\n",
    "plt.hist(Enero_train['Changed_Credit_Limit'])"
   ]
  },
  {
   "cell_type": "markdown",
   "id": "23cbc1c3",
   "metadata": {},
   "source": [
    "### NUM OF CREDIT ENQUIRIES"
   ]
  },
  {
   "cell_type": "code",
   "execution_count": 61,
   "id": "f9e34b7b",
   "metadata": {},
   "outputs": [],
   "source": [
    "Enero_train = pd.merge(Enero_train, mode_crinquiries, on=\"Customer_ID\", how=\"left\")\n",
    "Enero_train.rename(columns={0:'mode_crinquiries'},inplace=True)\n",
    "Enero_train['Num_Credit_Inquiries'] = Enero_train.apply(lambda x: cut_outliers(x['Num_Credit_Inquiries'],20), axis=1)\n",
    "Enero_train['Num_Credit_Inquiries'].fillna(Enero_train['mode_crinquiries'],inplace=True)\n",
    "\n"
   ]
  },
  {
   "cell_type": "code",
   "execution_count": 62,
   "id": "5daf6a10",
   "metadata": {},
   "outputs": [
    {
     "name": "stdout",
     "output_type": "stream",
     "text": [
      "0 0.0 17.0\n"
     ]
    },
    {
     "data": {
      "text/plain": [
       "(array([2535., 2523., 2112.,  990., 2025., 1155.,  583.,  564.,    9.,\n",
       "           4.]),\n",
       " array([ 0. ,  1.7,  3.4,  5.1,  6.8,  8.5, 10.2, 11.9, 13.6, 15.3, 17. ]),\n",
       " <BarContainer object of 10 artists>)"
      ]
     },
     "execution_count": 62,
     "metadata": {},
     "output_type": "execute_result"
    },
    {
     "data": {
      "image/png": "[encoded data removed]",
      "text/plain": [
       "<Figure size 504x504 with 1 Axes>"
      ]
     },
     "metadata": {
      "needs_background": "light"
     },
     "output_type": "display_data"
    }
   ],
   "source": [
    "print(Enero_train['Num_Credit_Inquiries'].isna().sum(),\n",
    "      Enero_train['Num_Credit_Inquiries'].min(),\n",
    "     Enero_train['Num_Credit_Inquiries'].max())\n",
    "fig = plt.figure(1, figsize=(7, 7))\n",
    "plt.hist(Enero_train['Num_Credit_Inquiries'])"
   ]
  },
  {
   "cell_type": "markdown",
   "id": "25a7a133",
   "metadata": {},
   "source": [
    "### AMount invested Monthly"
   ]
  },
  {
   "cell_type": "code",
   "execution_count": 63,
   "id": "bb5539fc",
   "metadata": {},
   "outputs": [],
   "source": [
    "Enero_train = pd.merge(Enero_train, mean_amount.to_frame(), on=\"Customer_ID\", how=\"left\")\n",
    "Enero_train.rename(columns={0:'Mean_Amount'},inplace=True)\n",
    "Enero_train['Amount_invested_monthly'] = Enero_train.apply(lambda x: cut_outliers(x['Amount_invested_monthly'],6000), axis=1)\n",
    "Enero_train['Amount_invested_monthly'].fillna(Enero_train['Mean_Amount'],inplace=True)"
   ]
  },
  {
   "cell_type": "code",
   "execution_count": 64,
   "id": "b1204ca4",
   "metadata": {},
   "outputs": [
    {
     "name": "stdout",
     "output_type": "stream",
     "text": [
      "0 0.0 4486.4676998030545\n"
     ]
    },
    {
     "data": {
      "text/plain": [
       "(array([1.0712e+04, 9.2400e+02, 2.3400e+02, 4.2700e+02, 4.6000e+01,\n",
       "        6.9000e+01, 5.6000e+01, 1.2000e+01, 1.5000e+01, 5.0000e+00]),\n",
       " array([   0.        ,  448.64676998,  897.29353996, 1345.94030994,\n",
       "        1794.58707992, 2243.2338499 , 2691.88061988, 3140.52738986,\n",
       "        3589.17415984, 4037.82092982, 4486.4676998 ]),\n",
       " <BarContainer object of 10 artists>)"
      ]
     },
     "execution_count": 64,
     "metadata": {},
     "output_type": "execute_result"
    },
    {
     "data": {
      "image/png": "[encoded data removed]",
      "text/plain": [
       "<Figure size 504x504 with 1 Axes>"
      ]
     },
     "metadata": {
      "needs_background": "light"
     },
     "output_type": "display_data"
    }
   ],
   "source": [
    "print(Enero_train['Amount_invested_monthly'].isna().sum(),\n",
    "      Enero_train['Amount_invested_monthly'].min(),\n",
    "     Enero_train['Amount_invested_monthly'].max())\n",
    "fig = plt.figure(1, figsize=(7, 7))\n",
    "plt.hist(Enero_train['Amount_invested_monthly'])"
   ]
  },
  {
   "cell_type": "markdown",
   "id": "d794935b",
   "metadata": {},
   "source": [
    "### Exploracion inicial de un solo mes de los datos para generar el EDA"
   ]
  },
  {
   "cell_type": "code",
   "execution_count": 65,
   "id": "26a44388",
   "metadata": {},
   "outputs": [
    {
     "data": {
      "text/html": [
       "<div>\n",
       "<style scoped>\n",
       "    .dataframe tbody tr th:only-of-type {\n",
       "        vertical-align: middle;\n",
       "    }\n",
       "\n",
       "    .dataframe tbody tr th {\n",
       "        vertical-align: top;\n",
       "    }\n",
       "\n",
       "    .dataframe thead th {\n",
       "        text-align: right;\n",
       "    }\n",
       "</style>\n",
       "<table border=\"1\" class=\"dataframe\">\n",
       "  <thead>\n",
       "    <tr style=\"text-align: right;\">\n",
       "      <th></th>\n",
       "      <th>Age</th>\n",
       "      <th>Annual_Income</th>\n",
       "      <th>Monthly_Inhand_Salary</th>\n",
       "      <th>Num_Bank_Accounts</th>\n",
       "      <th>Num_Credit_Card</th>\n",
       "      <th>Interest_Rate</th>\n",
       "      <th>Num_of_Loan</th>\n",
       "      <th>Delay_from_due_date</th>\n",
       "      <th>Num_of_Delayed_Payment</th>\n",
       "      <th>Changed_Credit_Limit</th>\n",
       "      <th>...</th>\n",
       "      <th>Moda_edad</th>\n",
       "      <th>Promedio_salario</th>\n",
       "      <th>Moda_cuentas</th>\n",
       "      <th>Moda_tdc</th>\n",
       "      <th>Moda_ir</th>\n",
       "      <th>Moda_loan</th>\n",
       "      <th>Moda_ndelay</th>\n",
       "      <th>Mean_chlimit</th>\n",
       "      <th>mode_crinquiries</th>\n",
       "      <th>Mean_Amount</th>\n",
       "    </tr>\n",
       "  </thead>\n",
       "  <tbody>\n",
       "    <tr>\n",
       "      <th>count</th>\n",
       "      <td>12500.000000</td>\n",
       "      <td>1.250000e+04</td>\n",
       "      <td>12500.000000</td>\n",
       "      <td>12500.000000</td>\n",
       "      <td>12500.000000</td>\n",
       "      <td>12500.000000</td>\n",
       "      <td>12500.000000</td>\n",
       "      <td>12500.000000</td>\n",
       "      <td>12500.000000</td>\n",
       "      <td>12500.000000</td>\n",
       "      <td>...</td>\n",
       "      <td>12500.000000</td>\n",
       "      <td>12500.00</td>\n",
       "      <td>12500.000000</td>\n",
       "      <td>12500.000000</td>\n",
       "      <td>12500.000000</td>\n",
       "      <td>12500.000000</td>\n",
       "      <td>12500.000000</td>\n",
       "      <td>12500.000000</td>\n",
       "      <td>12500.000000</td>\n",
       "      <td>12500.000000</td>\n",
       "    </tr>\n",
       "    <tr>\n",
       "      <th>mean</th>\n",
       "      <td>33.037200</td>\n",
       "      <td>1.888617e+05</td>\n",
       "      <td>4207.255281</td>\n",
       "      <td>5.367600</td>\n",
       "      <td>5.532480</td>\n",
       "      <td>14.532080</td>\n",
       "      <td>3.532880</td>\n",
       "      <td>21.051440</td>\n",
       "      <td>13.317200</td>\n",
       "      <td>10.409063</td>\n",
       "      <td>...</td>\n",
       "      <td>33.274560</td>\n",
       "      <td>inf</td>\n",
       "      <td>5.367520</td>\n",
       "      <td>5.532720</td>\n",
       "      <td>14.532080</td>\n",
       "      <td>3.532880</td>\n",
       "      <td>13.263600</td>\n",
       "      <td>10.393543</td>\n",
       "      <td>5.677760</td>\n",
       "      <td>637.569686</td>\n",
       "    </tr>\n",
       "    <tr>\n",
       "      <th>std</th>\n",
       "      <td>10.770433</td>\n",
       "      <td>1.482707e+06</td>\n",
       "      <td>3193.882623</td>\n",
       "      <td>2.592429</td>\n",
       "      <td>2.063707</td>\n",
       "      <td>8.741636</td>\n",
       "      <td>2.446442</td>\n",
       "      <td>14.859994</td>\n",
       "      <td>6.288649</td>\n",
       "      <td>6.765067</td>\n",
       "      <td>...</td>\n",
       "      <td>10.764815</td>\n",
       "      <td>inf</td>\n",
       "      <td>2.593412</td>\n",
       "      <td>2.067576</td>\n",
       "      <td>8.741636</td>\n",
       "      <td>2.446442</td>\n",
       "      <td>6.202006</td>\n",
       "      <td>6.512757</td>\n",
       "      <td>3.827382</td>\n",
       "      <td>751.542779</td>\n",
       "    </tr>\n",
       "    <tr>\n",
       "      <th>min</th>\n",
       "      <td>14.000000</td>\n",
       "      <td>7.005930e+03</td>\n",
       "      <td>303.645417</td>\n",
       "      <td>0.000000</td>\n",
       "      <td>1.000000</td>\n",
       "      <td>1.000000</td>\n",
       "      <td>0.000000</td>\n",
       "      <td>-5.000000</td>\n",
       "      <td>-2.000000</td>\n",
       "      <td>-6.430000</td>\n",
       "      <td>...</td>\n",
       "      <td>14.000000</td>\n",
       "      <td>303.75</td>\n",
       "      <td>-1.000000</td>\n",
       "      <td>0.000000</td>\n",
       "      <td>1.000000</td>\n",
       "      <td>0.000000</td>\n",
       "      <td>-2.000000</td>\n",
       "      <td>-5.010000</td>\n",
       "      <td>0.000000</td>\n",
       "      <td>15.292436</td>\n",
       "    </tr>\n",
       "    <tr>\n",
       "      <th>25%</th>\n",
       "      <td>24.000000</td>\n",
       "      <td>1.948777e+04</td>\n",
       "      <td>1629.000000</td>\n",
       "      <td>3.000000</td>\n",
       "      <td>4.000000</td>\n",
       "      <td>7.000000</td>\n",
       "      <td>2.000000</td>\n",
       "      <td>10.000000</td>\n",
       "      <td>9.000000</td>\n",
       "      <td>5.390000</td>\n",
       "      <td>...</td>\n",
       "      <td>24.000000</td>\n",
       "      <td>1626.00</td>\n",
       "      <td>3.000000</td>\n",
       "      <td>4.000000</td>\n",
       "      <td>7.000000</td>\n",
       "      <td>2.000000</td>\n",
       "      <td>9.000000</td>\n",
       "      <td>5.500000</td>\n",
       "      <td>3.000000</td>\n",
       "      <td>117.185215</td>\n",
       "    </tr>\n",
       "    <tr>\n",
       "      <th>50%</th>\n",
       "      <td>33.000000</td>\n",
       "      <td>3.765508e+04</td>\n",
       "      <td>3102.861667</td>\n",
       "      <td>5.000000</td>\n",
       "      <td>5.000000</td>\n",
       "      <td>13.000000</td>\n",
       "      <td>3.000000</td>\n",
       "      <td>18.000000</td>\n",
       "      <td>14.000000</td>\n",
       "      <td>9.420000</td>\n",
       "      <td>...</td>\n",
       "      <td>33.000000</td>\n",
       "      <td>3098.00</td>\n",
       "      <td>5.000000</td>\n",
       "      <td>5.000000</td>\n",
       "      <td>13.000000</td>\n",
       "      <td>3.000000</td>\n",
       "      <td>14.000000</td>\n",
       "      <td>9.340000</td>\n",
       "      <td>5.000000</td>\n",
       "      <td>233.589940</td>\n",
       "    </tr>\n",
       "    <tr>\n",
       "      <th>75%</th>\n",
       "      <td>41.000000</td>\n",
       "      <td>7.289813e+04</td>\n",
       "      <td>5971.334167</td>\n",
       "      <td>7.000000</td>\n",
       "      <td>7.000000</td>\n",
       "      <td>20.000000</td>\n",
       "      <td>5.000000</td>\n",
       "      <td>28.000000</td>\n",
       "      <td>18.000000</td>\n",
       "      <td>14.792500</td>\n",
       "      <td>...</td>\n",
       "      <td>42.000000</td>\n",
       "      <td>5960.00</td>\n",
       "      <td>7.000000</td>\n",
       "      <td>7.000000</td>\n",
       "      <td>20.000000</td>\n",
       "      <td>5.000000</td>\n",
       "      <td>18.000000</td>\n",
       "      <td>14.672500</td>\n",
       "      <td>8.000000</td>\n",
       "      <td>1336.541021</td>\n",
       "    </tr>\n",
       "    <tr>\n",
       "      <th>max</th>\n",
       "      <td>95.000000</td>\n",
       "      <td>2.365819e+07</td>\n",
       "      <td>15204.633333</td>\n",
       "      <td>10.000000</td>\n",
       "      <td>10.000000</td>\n",
       "      <td>34.000000</td>\n",
       "      <td>9.000000</td>\n",
       "      <td>67.000000</td>\n",
       "      <td>28.000000</td>\n",
       "      <td>36.490000</td>\n",
       "      <td>...</td>\n",
       "      <td>56.000000</td>\n",
       "      <td>15208.00</td>\n",
       "      <td>10.000000</td>\n",
       "      <td>11.000000</td>\n",
       "      <td>34.000000</td>\n",
       "      <td>9.000000</td>\n",
       "      <td>28.000000</td>\n",
       "      <td>29.980000</td>\n",
       "      <td>17.000000</td>\n",
       "      <td>5748.505316</td>\n",
       "    </tr>\n",
       "  </tbody>\n",
       "</table>\n",
       "<p>8 rows × 25 columns</p>\n",
       "</div>"
      ],
      "text/plain": [
       "                Age  Annual_Income  Monthly_Inhand_Salary  Num_Bank_Accounts  \\\n",
       "count  12500.000000   1.250000e+04           12500.000000       12500.000000   \n",
       "mean      33.037200   1.888617e+05            4207.255281           5.367600   \n",
       "std       10.770433   1.482707e+06            3193.882623           2.592429   \n",
       "min       14.000000   7.005930e+03             303.645417           0.000000   \n",
       "25%       24.000000   1.948777e+04            1629.000000           3.000000   \n",
       "50%       33.000000   3.765508e+04            3102.861667           5.000000   \n",
       "75%       41.000000   7.289813e+04            5971.334167           7.000000   \n",
       "max       95.000000   2.365819e+07           15204.633333          10.000000   \n",
       "\n",
       "       Num_Credit_Card  Interest_Rate   Num_of_Loan  Delay_from_due_date  \\\n",
       "count     12500.000000   12500.000000  12500.000000         12500.000000   \n",
       "mean          5.532480      14.532080      3.532880            21.051440   \n",
       "std           2.063707       8.741636      2.446442            14.859994   \n",
       "min           1.000000       1.000000      0.000000            -5.000000   \n",
       "25%           4.000000       7.000000      2.000000            10.000000   \n",
       "50%           5.000000      13.000000      3.000000            18.000000   \n",
       "75%           7.000000      20.000000      5.000000            28.000000   \n",
       "max          10.000000      34.000000      9.000000            67.000000   \n",
       "\n",
       "       Num_of_Delayed_Payment  Changed_Credit_Limit  ...     Moda_edad  \\\n",
       "count            12500.000000          12500.000000  ...  12500.000000   \n",
       "mean                13.317200             10.409063  ...     33.274560   \n",
       "std                  6.288649              6.765067  ...     10.764815   \n",
       "min                 -2.000000             -6.430000  ...     14.000000   \n",
       "25%                  9.000000              5.390000  ...     24.000000   \n",
       "50%                 14.000000              9.420000  ...     33.000000   \n",
       "75%                 18.000000             14.792500  ...     42.000000   \n",
       "max                 28.000000             36.490000  ...     56.000000   \n",
       "\n",
       "       Promedio_salario  Moda_cuentas      Moda_tdc       Moda_ir  \\\n",
       "count          12500.00  12500.000000  12500.000000  12500.000000   \n",
       "mean                inf      5.367520      5.532720     14.532080   \n",
       "std                 inf      2.593412      2.067576      8.741636   \n",
       "min              303.75     -1.000000      0.000000      1.000000   \n",
       "25%             1626.00      3.000000      4.000000      7.000000   \n",
       "50%             3098.00      5.000000      5.000000     13.000000   \n",
       "75%             5960.00      7.000000      7.000000     20.000000   \n",
       "max            15208.00     10.000000     11.000000     34.000000   \n",
       "\n",
       "          Moda_loan   Moda_ndelay  Mean_chlimit  mode_crinquiries  \\\n",
       "count  12500.000000  12500.000000  12500.000000      12500.000000   \n",
       "mean       3.532880     13.263600     10.393543          5.677760   \n",
       "std        2.446442      6.202006      6.512757          3.827382   \n",
       "min        0.000000     -2.000000     -5.010000          0.000000   \n",
       "25%        2.000000      9.000000      5.500000          3.000000   \n",
       "50%        3.000000     14.000000      9.340000          5.000000   \n",
       "75%        5.000000     18.000000     14.672500          8.000000   \n",
       "max        9.000000     28.000000     29.980000         17.000000   \n",
       "\n",
       "        Mean_Amount  \n",
       "count  12500.000000  \n",
       "mean     637.569686  \n",
       "std      751.542779  \n",
       "min       15.292436  \n",
       "25%      117.185215  \n",
       "50%      233.589940  \n",
       "75%     1336.541021  \n",
       "max     5748.505316  \n",
       "\n",
       "[8 rows x 25 columns]"
      ]
     },
     "execution_count": 65,
     "metadata": {},
     "output_type": "execute_result"
    }
   ],
   "source": [
    "Enero_train.describe()"
   ]
  },
  {
   "cell_type": "markdown",
   "id": "55ba5849",
   "metadata": {},
   "source": [
    "Profiling de los datos tomando solo ciertas caracteristicas basicas iniciales"
   ]
  },
  {
   "cell_type": "code",
   "execution_count": 66,
   "id": "2e322582",
   "metadata": {},
   "outputs": [],
   "source": [
    "#columnas de descripcion general fast EDA\n",
    "columnas_FEDA=[ 'Age', 'Occupation',\n",
    "       'Annual_Income', 'Monthly_Inhand_Salary', 'Num_Bank_Accounts',\n",
    "       'Num_Credit_Card', 'Interest_Rate', 'Num_of_Loan', 'Type_of_Loan',\n",
    "       'Delay_from_due_date', 'Num_of_Delayed_Payment', 'Changed_Credit_Limit',\n",
    "       'Num_Credit_Inquiries', 'Credit_Mix', 'Outstanding_Debt',\n",
    "       'Credit_Utilization_Ratio',\n",
    "       'Payment_of_Min_Amount', 'Total_EMI_per_month',\n",
    "       'Amount_invested_monthly', 'Payment_Behaviour', 'Monthly_Balance',\n",
    "       'Credit_Score']"
   ]
  },
  {
   "cell_type": "code",
   "execution_count": 67,
   "id": "2a4056aa",
   "metadata": {},
   "outputs": [],
   "source": [
    "Enero_train_EDA=Enero_train[columnas_FEDA]"
   ]
  },
  {
   "cell_type": "code",
   "execution_count": 68,
   "id": "cb6962d3",
   "metadata": {},
   "outputs": [],
   "source": [
    "profile_Enero=pp.ProfileReport(Enero_train_EDA)"
   ]
  },
  {
   "cell_type": "code",
   "execution_count": 69,
   "id": "c33ccb24",
   "metadata": {},
   "outputs": [
    {
     "data": {
      "application/vnd.jupyter.widget-view+json": {
       "model_id": "903729c4522b44b480d736c970ec93c3",
       "version_major": 2,
       "version_minor": 0
      },
      "text/plain": [
       "Summarize dataset:   0%|          | 0/37 [00:00<?, ?it/s]"
      ]
     },
     "metadata": {},
     "output_type": "display_data"
    },
    {
     "data": {
      "application/vnd.jupyter.widget-view+json": {
       "model_id": "857e3130e7e742c1b892600d312d5709",
       "version_major": 2,
       "version_minor": 0
      },
      "text/plain": [
       "Generate report structure:   0%|          | 0/1 [00:00<?, ?it/s]"
      ]
     },
     "metadata": {},
     "output_type": "display_data"
    },
    {
     "data": {
      "application/vnd.jupyter.widget-view+json": {
       "model_id": "1e3fdd70b7be417bbd1a3e73897c1945",
       "version_major": 2,
       "version_minor": 0
      },
      "text/plain": [
       "Render HTML:   0%|          | 0/1 [00:00<?, ?it/s]"
      ]
     },
     "metadata": {},
     "output_type": "display_data"
    },
    {
     "data": {
      "application/vnd.jupyter.widget-view+json": {
       "model_id": "76610e89312a43c7a82b888b910ee790",
       "version_major": 2,
       "version_minor": 0
      },
      "text/plain": [
       "Export report to file:   0%|          | 0/1 [00:00<?, ?it/s]"
      ]
     },
     "metadata": {},
     "output_type": "display_data"
    }
   ],
   "source": [
    "profile_Enero.to_file('EneroProfiling.html')"
   ]
  },
  {
   "cell_type": "markdown",
   "id": "acd7e222",
   "metadata": {},
   "source": [
    "## CHAVOS:\n",
    "\n",
    "1) El procedimiento anterior se tiene que repetir para cada mes despues de calcular las modas y medias. Es decir, a partir de la celda que dice:\n",
    "\n",
    "### Merges finales para quitar missings y outliers no naturales (errores no relacionados con la distribucion)\n",
    "\n",
    "2) Los datos que ya estan limpios y listos para usar son los de Enero, son los que presentaremos en el EDA de esta semana. Los demas meses solo es repetir lo que ya se hizo"
   ]
  },
  {
   "cell_type": "code",
   "execution_count": 71,
   "id": "30da1e7f",
   "metadata": {},
   "outputs": [],
   "source": [
    "Enero_train.to_csv(\"Data/Enero_train.csv\")"
   ]
  }
 ],
 "metadata": {
  "kernelspec": {
   "display_name": "Python 3 (ipykernel)",
   "language": "python",
   "name": "python3"
  },
  "language_info": {
   "codemirror_mode": {
    "name": "ipython",
    "version": 3
   },
   "file_extension": ".py",
   "mimetype": "text/x-python",
   "name": "python",
   "nbconvert_exporter": "python",
   "pygments_lexer": "ipython3",
   "version": "3.10.4"
  }
 },
 "nbformat": 4,
 "nbformat_minor": 5
}
