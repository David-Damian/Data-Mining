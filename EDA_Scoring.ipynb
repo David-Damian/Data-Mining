{
 "cells": [
  {
   "cell_type": "markdown",
   "id": "e10d34dc",
   "metadata": {},
   "source": [
    "# Proyecto Mineria de Datos: Credit Scores\n",
    "\n",
    "### Parte 1: Limpieza de datos"
   ]
  },
  {
   "cell_type": "code",
   "execution_count": 102,
   "id": "2d34c42b",
   "metadata": {},
   "outputs": [],
   "source": [
    "import numpy as np\n",
    "import pandas as pd\n",
    "import pandas_profiling as pp\n",
    "import matplotlib.pyplot as plt\n",
    "import os\n"
   ]
  },
  {
   "cell_type": "markdown",
   "id": "e56fea81",
   "metadata": {},
   "source": [
    "## Datos"
   ]
  },
  {
   "cell_type": "code",
   "execution_count": 103,
   "id": "e2942604",
   "metadata": {},
   "outputs": [],
   "source": [
    "os.chdir('/home/juanpalms/Desktop/Mineria de Datos/Proyecto')"
   ]
  },
  {
   "cell_type": "code",
   "execution_count": 104,
   "id": "c6d0f0b5",
   "metadata": {},
   "outputs": [
    {
     "data": {
      "text/plain": [
       "'/home/juanpalms/Desktop/Mineria de Datos/Proyecto'"
      ]
     },
     "execution_count": 104,
     "metadata": {},
     "output_type": "execute_result"
    }
   ],
   "source": [
    "os.getcwd()"
   ]
  },
  {
   "cell_type": "code",
   "execution_count": 105,
   "id": "464e5db7",
   "metadata": {},
   "outputs": [
    {
     "name": "stderr",
     "output_type": "stream",
     "text": [
      "/tmp/ipykernel_8324/2775519410.py:1: DtypeWarning: Columns (26) have mixed types. Specify dtype option on import or set low_memory=False.\n",
      "  datos_train=pd.read_csv('Data/train.csv')\n"
     ]
    }
   ],
   "source": [
    "datos_train=pd.read_csv('Data/train.csv')"
   ]
  },
  {
   "cell_type": "code",
   "execution_count": 106,
   "id": "80b2385b",
   "metadata": {},
   "outputs": [],
   "source": [
    "datos_test=pd.read_csv('Data/test.csv')"
   ]
  },
  {
   "cell_type": "code",
   "execution_count": 107,
   "id": "5d6a37bb",
   "metadata": {},
   "outputs": [
    {
     "data": {
      "text/html": [
       "<div>\n",
       "<style scoped>\n",
       "    .dataframe tbody tr th:only-of-type {\n",
       "        vertical-align: middle;\n",
       "    }\n",
       "\n",
       "    .dataframe tbody tr th {\n",
       "        vertical-align: top;\n",
       "    }\n",
       "\n",
       "    .dataframe thead th {\n",
       "        text-align: right;\n",
       "    }\n",
       "</style>\n",
       "<table border=\"1\" class=\"dataframe\">\n",
       "  <thead>\n",
       "    <tr style=\"text-align: right;\">\n",
       "      <th></th>\n",
       "      <th>Monthly_Inhand_Salary</th>\n",
       "      <th>Num_Bank_Accounts</th>\n",
       "      <th>Num_Credit_Card</th>\n",
       "      <th>Interest_Rate</th>\n",
       "      <th>Delay_from_due_date</th>\n",
       "      <th>Num_Credit_Inquiries</th>\n",
       "      <th>Credit_Utilization_Ratio</th>\n",
       "      <th>Total_EMI_per_month</th>\n",
       "    </tr>\n",
       "  </thead>\n",
       "  <tbody>\n",
       "    <tr>\n",
       "      <th>count</th>\n",
       "      <td>84998.000000</td>\n",
       "      <td>100000.000000</td>\n",
       "      <td>100000.00000</td>\n",
       "      <td>100000.000000</td>\n",
       "      <td>100000.000000</td>\n",
       "      <td>98035.000000</td>\n",
       "      <td>100000.000000</td>\n",
       "      <td>100000.000000</td>\n",
       "    </tr>\n",
       "    <tr>\n",
       "      <th>mean</th>\n",
       "      <td>4194.170850</td>\n",
       "      <td>17.091280</td>\n",
       "      <td>22.47443</td>\n",
       "      <td>72.466040</td>\n",
       "      <td>21.068780</td>\n",
       "      <td>27.754251</td>\n",
       "      <td>32.285173</td>\n",
       "      <td>1403.118217</td>\n",
       "    </tr>\n",
       "    <tr>\n",
       "      <th>std</th>\n",
       "      <td>3183.686167</td>\n",
       "      <td>117.404834</td>\n",
       "      <td>129.05741</td>\n",
       "      <td>466.422621</td>\n",
       "      <td>14.860104</td>\n",
       "      <td>193.177339</td>\n",
       "      <td>5.116875</td>\n",
       "      <td>8306.041270</td>\n",
       "    </tr>\n",
       "    <tr>\n",
       "      <th>min</th>\n",
       "      <td>303.645417</td>\n",
       "      <td>-1.000000</td>\n",
       "      <td>0.00000</td>\n",
       "      <td>1.000000</td>\n",
       "      <td>-5.000000</td>\n",
       "      <td>0.000000</td>\n",
       "      <td>20.000000</td>\n",
       "      <td>0.000000</td>\n",
       "    </tr>\n",
       "    <tr>\n",
       "      <th>25%</th>\n",
       "      <td>1625.568229</td>\n",
       "      <td>3.000000</td>\n",
       "      <td>4.00000</td>\n",
       "      <td>8.000000</td>\n",
       "      <td>10.000000</td>\n",
       "      <td>3.000000</td>\n",
       "      <td>28.052567</td>\n",
       "      <td>30.306660</td>\n",
       "    </tr>\n",
       "    <tr>\n",
       "      <th>50%</th>\n",
       "      <td>3093.745000</td>\n",
       "      <td>6.000000</td>\n",
       "      <td>5.00000</td>\n",
       "      <td>13.000000</td>\n",
       "      <td>18.000000</td>\n",
       "      <td>6.000000</td>\n",
       "      <td>32.305784</td>\n",
       "      <td>69.249473</td>\n",
       "    </tr>\n",
       "    <tr>\n",
       "      <th>75%</th>\n",
       "      <td>5957.448333</td>\n",
       "      <td>7.000000</td>\n",
       "      <td>7.00000</td>\n",
       "      <td>20.000000</td>\n",
       "      <td>28.000000</td>\n",
       "      <td>9.000000</td>\n",
       "      <td>36.496663</td>\n",
       "      <td>161.224249</td>\n",
       "    </tr>\n",
       "    <tr>\n",
       "      <th>max</th>\n",
       "      <td>15204.633333</td>\n",
       "      <td>1798.000000</td>\n",
       "      <td>1499.00000</td>\n",
       "      <td>5797.000000</td>\n",
       "      <td>67.000000</td>\n",
       "      <td>2597.000000</td>\n",
       "      <td>50.000000</td>\n",
       "      <td>82331.000000</td>\n",
       "    </tr>\n",
       "  </tbody>\n",
       "</table>\n",
       "</div>"
      ],
      "text/plain": [
       "       Monthly_Inhand_Salary  Num_Bank_Accounts  Num_Credit_Card  \\\n",
       "count           84998.000000      100000.000000     100000.00000   \n",
       "mean             4194.170850          17.091280         22.47443   \n",
       "std              3183.686167         117.404834        129.05741   \n",
       "min               303.645417          -1.000000          0.00000   \n",
       "25%              1625.568229           3.000000          4.00000   \n",
       "50%              3093.745000           6.000000          5.00000   \n",
       "75%              5957.448333           7.000000          7.00000   \n",
       "max             15204.633333        1798.000000       1499.00000   \n",
       "\n",
       "       Interest_Rate  Delay_from_due_date  Num_Credit_Inquiries  \\\n",
       "count  100000.000000        100000.000000          98035.000000   \n",
       "mean       72.466040            21.068780             27.754251   \n",
       "std       466.422621            14.860104            193.177339   \n",
       "min         1.000000            -5.000000              0.000000   \n",
       "25%         8.000000            10.000000              3.000000   \n",
       "50%        13.000000            18.000000              6.000000   \n",
       "75%        20.000000            28.000000              9.000000   \n",
       "max      5797.000000            67.000000           2597.000000   \n",
       "\n",
       "       Credit_Utilization_Ratio  Total_EMI_per_month  \n",
       "count             100000.000000        100000.000000  \n",
       "mean                  32.285173          1403.118217  \n",
       "std                    5.116875          8306.041270  \n",
       "min                   20.000000             0.000000  \n",
       "25%                   28.052567            30.306660  \n",
       "50%                   32.305784            69.249473  \n",
       "75%                   36.496663           161.224249  \n",
       "max                   50.000000         82331.000000  "
      ]
     },
     "execution_count": 107,
     "metadata": {},
     "output_type": "execute_result"
    }
   ],
   "source": [
    "datos_train.describe()"
   ]
  },
  {
   "cell_type": "code",
   "execution_count": 108,
   "id": "c8a047a9",
   "metadata": {},
   "outputs": [
    {
     "data": {
      "text/html": [
       "<div>\n",
       "<style scoped>\n",
       "    .dataframe tbody tr th:only-of-type {\n",
       "        vertical-align: middle;\n",
       "    }\n",
       "\n",
       "    .dataframe tbody tr th {\n",
       "        vertical-align: top;\n",
       "    }\n",
       "\n",
       "    .dataframe thead th {\n",
       "        text-align: right;\n",
       "    }\n",
       "</style>\n",
       "<table border=\"1\" class=\"dataframe\">\n",
       "  <thead>\n",
       "    <tr style=\"text-align: right;\">\n",
       "      <th></th>\n",
       "      <th>ID</th>\n",
       "      <th>Customer_ID</th>\n",
       "      <th>Month</th>\n",
       "      <th>Name</th>\n",
       "      <th>Age</th>\n",
       "      <th>SSN</th>\n",
       "      <th>Occupation</th>\n",
       "      <th>Annual_Income</th>\n",
       "      <th>Monthly_Inhand_Salary</th>\n",
       "      <th>Num_Bank_Accounts</th>\n",
       "      <th>...</th>\n",
       "      <th>Credit_Mix</th>\n",
       "      <th>Outstanding_Debt</th>\n",
       "      <th>Credit_Utilization_Ratio</th>\n",
       "      <th>Credit_History_Age</th>\n",
       "      <th>Payment_of_Min_Amount</th>\n",
       "      <th>Total_EMI_per_month</th>\n",
       "      <th>Amount_invested_monthly</th>\n",
       "      <th>Payment_Behaviour</th>\n",
       "      <th>Monthly_Balance</th>\n",
       "      <th>Credit_Score</th>\n",
       "    </tr>\n",
       "  </thead>\n",
       "  <tbody>\n",
       "    <tr>\n",
       "      <th>0</th>\n",
       "      <td>0x1602</td>\n",
       "      <td>CUS_0xd40</td>\n",
       "      <td>January</td>\n",
       "      <td>Aaron Maashoh</td>\n",
       "      <td>23</td>\n",
       "      <td>821-00-0265</td>\n",
       "      <td>Scientist</td>\n",
       "      <td>19114.12</td>\n",
       "      <td>1824.843333</td>\n",
       "      <td>3</td>\n",
       "      <td>...</td>\n",
       "      <td>_</td>\n",
       "      <td>809.98</td>\n",
       "      <td>26.822620</td>\n",
       "      <td>22 Years and 1 Months</td>\n",
       "      <td>No</td>\n",
       "      <td>49.574949</td>\n",
       "      <td>80.41529543900253</td>\n",
       "      <td>High_spent_Small_value_payments</td>\n",
       "      <td>312.49408867943663</td>\n",
       "      <td>Good</td>\n",
       "    </tr>\n",
       "    <tr>\n",
       "      <th>1</th>\n",
       "      <td>0x1603</td>\n",
       "      <td>CUS_0xd40</td>\n",
       "      <td>February</td>\n",
       "      <td>Aaron Maashoh</td>\n",
       "      <td>23</td>\n",
       "      <td>821-00-0265</td>\n",
       "      <td>Scientist</td>\n",
       "      <td>19114.12</td>\n",
       "      <td>NaN</td>\n",
       "      <td>3</td>\n",
       "      <td>...</td>\n",
       "      <td>Good</td>\n",
       "      <td>809.98</td>\n",
       "      <td>31.944960</td>\n",
       "      <td>NaN</td>\n",
       "      <td>No</td>\n",
       "      <td>49.574949</td>\n",
       "      <td>118.28022162236736</td>\n",
       "      <td>Low_spent_Large_value_payments</td>\n",
       "      <td>284.62916249607184</td>\n",
       "      <td>Good</td>\n",
       "    </tr>\n",
       "    <tr>\n",
       "      <th>2</th>\n",
       "      <td>0x1604</td>\n",
       "      <td>CUS_0xd40</td>\n",
       "      <td>March</td>\n",
       "      <td>Aaron Maashoh</td>\n",
       "      <td>-500</td>\n",
       "      <td>821-00-0265</td>\n",
       "      <td>Scientist</td>\n",
       "      <td>19114.12</td>\n",
       "      <td>NaN</td>\n",
       "      <td>3</td>\n",
       "      <td>...</td>\n",
       "      <td>Good</td>\n",
       "      <td>809.98</td>\n",
       "      <td>28.609352</td>\n",
       "      <td>22 Years and 3 Months</td>\n",
       "      <td>No</td>\n",
       "      <td>49.574949</td>\n",
       "      <td>81.699521264648</td>\n",
       "      <td>Low_spent_Medium_value_payments</td>\n",
       "      <td>331.2098628537912</td>\n",
       "      <td>Good</td>\n",
       "    </tr>\n",
       "    <tr>\n",
       "      <th>3</th>\n",
       "      <td>0x1605</td>\n",
       "      <td>CUS_0xd40</td>\n",
       "      <td>April</td>\n",
       "      <td>Aaron Maashoh</td>\n",
       "      <td>23</td>\n",
       "      <td>821-00-0265</td>\n",
       "      <td>Scientist</td>\n",
       "      <td>19114.12</td>\n",
       "      <td>NaN</td>\n",
       "      <td>3</td>\n",
       "      <td>...</td>\n",
       "      <td>Good</td>\n",
       "      <td>809.98</td>\n",
       "      <td>31.377862</td>\n",
       "      <td>22 Years and 4 Months</td>\n",
       "      <td>No</td>\n",
       "      <td>49.574949</td>\n",
       "      <td>199.4580743910713</td>\n",
       "      <td>Low_spent_Small_value_payments</td>\n",
       "      <td>223.45130972736786</td>\n",
       "      <td>Good</td>\n",
       "    </tr>\n",
       "    <tr>\n",
       "      <th>4</th>\n",
       "      <td>0x1606</td>\n",
       "      <td>CUS_0xd40</td>\n",
       "      <td>May</td>\n",
       "      <td>Aaron Maashoh</td>\n",
       "      <td>23</td>\n",
       "      <td>821-00-0265</td>\n",
       "      <td>Scientist</td>\n",
       "      <td>19114.12</td>\n",
       "      <td>1824.843333</td>\n",
       "      <td>3</td>\n",
       "      <td>...</td>\n",
       "      <td>Good</td>\n",
       "      <td>809.98</td>\n",
       "      <td>24.797347</td>\n",
       "      <td>22 Years and 5 Months</td>\n",
       "      <td>No</td>\n",
       "      <td>49.574949</td>\n",
       "      <td>41.420153086217326</td>\n",
       "      <td>High_spent_Medium_value_payments</td>\n",
       "      <td>341.48923103222177</td>\n",
       "      <td>Good</td>\n",
       "    </tr>\n",
       "  </tbody>\n",
       "</table>\n",
       "<p>5 rows × 28 columns</p>\n",
       "</div>"
      ],
      "text/plain": [
       "       ID Customer_ID     Month           Name   Age          SSN Occupation  \\\n",
       "0  0x1602   CUS_0xd40   January  Aaron Maashoh    23  821-00-0265  Scientist   \n",
       "1  0x1603   CUS_0xd40  February  Aaron Maashoh    23  821-00-0265  Scientist   \n",
       "2  0x1604   CUS_0xd40     March  Aaron Maashoh  -500  821-00-0265  Scientist   \n",
       "3  0x1605   CUS_0xd40     April  Aaron Maashoh    23  821-00-0265  Scientist   \n",
       "4  0x1606   CUS_0xd40       May  Aaron Maashoh    23  821-00-0265  Scientist   \n",
       "\n",
       "  Annual_Income  Monthly_Inhand_Salary  Num_Bank_Accounts  ...  Credit_Mix  \\\n",
       "0      19114.12            1824.843333                  3  ...           _   \n",
       "1      19114.12                    NaN                  3  ...        Good   \n",
       "2      19114.12                    NaN                  3  ...        Good   \n",
       "3      19114.12                    NaN                  3  ...        Good   \n",
       "4      19114.12            1824.843333                  3  ...        Good   \n",
       "\n",
       "   Outstanding_Debt Credit_Utilization_Ratio     Credit_History_Age  \\\n",
       "0            809.98                26.822620  22 Years and 1 Months   \n",
       "1            809.98                31.944960                    NaN   \n",
       "2            809.98                28.609352  22 Years and 3 Months   \n",
       "3            809.98                31.377862  22 Years and 4 Months   \n",
       "4            809.98                24.797347  22 Years and 5 Months   \n",
       "\n",
       "   Payment_of_Min_Amount Total_EMI_per_month Amount_invested_monthly  \\\n",
       "0                     No           49.574949       80.41529543900253   \n",
       "1                     No           49.574949      118.28022162236736   \n",
       "2                     No           49.574949         81.699521264648   \n",
       "3                     No           49.574949       199.4580743910713   \n",
       "4                     No           49.574949      41.420153086217326   \n",
       "\n",
       "                  Payment_Behaviour     Monthly_Balance Credit_Score  \n",
       "0   High_spent_Small_value_payments  312.49408867943663         Good  \n",
       "1    Low_spent_Large_value_payments  284.62916249607184         Good  \n",
       "2   Low_spent_Medium_value_payments   331.2098628537912         Good  \n",
       "3    Low_spent_Small_value_payments  223.45130972736786         Good  \n",
       "4  High_spent_Medium_value_payments  341.48923103222177         Good  \n",
       "\n",
       "[5 rows x 28 columns]"
      ]
     },
     "execution_count": 108,
     "metadata": {},
     "output_type": "execute_result"
    }
   ],
   "source": [
    "datos_train.head()"
   ]
  },
  {
   "cell_type": "code",
   "execution_count": 109,
   "id": "6de1b6ea",
   "metadata": {},
   "outputs": [
    {
     "name": "stdout",
     "output_type": "stream",
     "text": [
      "['ID', 'Customer_ID', 'Month', 'Name', 'Age', 'SSN', 'Occupation', 'Annual_Income', 'Monthly_Inhand_Salary', 'Num_Bank_Accounts', 'Num_Credit_Card', 'Interest_Rate', 'Num_of_Loan', 'Type_of_Loan', 'Delay_from_due_date', 'Num_of_Delayed_Payment', 'Changed_Credit_Limit', 'Num_Credit_Inquiries', 'Credit_Mix', 'Outstanding_Debt', 'Credit_Utilization_Ratio', 'Credit_History_Age', 'Payment_of_Min_Amount', 'Total_EMI_per_month', 'Amount_invested_monthly', 'Payment_Behaviour', 'Monthly_Balance', 'Credit_Score']\n"
     ]
    }
   ],
   "source": [
    "columns_headers=list(datos_train.columns.values)\n",
    "print(columns_headers)"
   ]
  },
  {
   "cell_type": "code",
   "execution_count": 110,
   "id": "da8589bc",
   "metadata": {
    "scrolled": true
   },
   "outputs": [
    {
     "name": "stdout",
     "output_type": "stream",
     "text": [
      "<class 'pandas.core.frame.DataFrame'>\n",
      "RangeIndex: 100000 entries, 0 to 99999\n",
      "Data columns (total 28 columns):\n",
      " #   Column                    Non-Null Count   Dtype  \n",
      "---  ------                    --------------   -----  \n",
      " 0   ID                        100000 non-null  object \n",
      " 1   Customer_ID               100000 non-null  object \n",
      " 2   Month                     100000 non-null  object \n",
      " 3   Name                      90015 non-null   object \n",
      " 4   Age                       100000 non-null  object \n",
      " 5   SSN                       100000 non-null  object \n",
      " 6   Occupation                100000 non-null  object \n",
      " 7   Annual_Income             100000 non-null  object \n",
      " 8   Monthly_Inhand_Salary     84998 non-null   float64\n",
      " 9   Num_Bank_Accounts         100000 non-null  int64  \n",
      " 10  Num_Credit_Card           100000 non-null  int64  \n",
      " 11  Interest_Rate             100000 non-null  int64  \n",
      " 12  Num_of_Loan               100000 non-null  object \n",
      " 13  Type_of_Loan              88592 non-null   object \n",
      " 14  Delay_from_due_date       100000 non-null  int64  \n",
      " 15  Num_of_Delayed_Payment    92998 non-null   object \n",
      " 16  Changed_Credit_Limit      100000 non-null  object \n",
      " 17  Num_Credit_Inquiries      98035 non-null   float64\n",
      " 18  Credit_Mix                100000 non-null  object \n",
      " 19  Outstanding_Debt          100000 non-null  object \n",
      " 20  Credit_Utilization_Ratio  100000 non-null  float64\n",
      " 21  Credit_History_Age        90970 non-null   object \n",
      " 22  Payment_of_Min_Amount     100000 non-null  object \n",
      " 23  Total_EMI_per_month       100000 non-null  float64\n",
      " 24  Amount_invested_monthly   95521 non-null   object \n",
      " 25  Payment_Behaviour         100000 non-null  object \n",
      " 26  Monthly_Balance           98800 non-null   object \n",
      " 27  Credit_Score              100000 non-null  object \n",
      "dtypes: float64(4), int64(4), object(20)\n",
      "memory usage: 21.4+ MB\n"
     ]
    }
   ],
   "source": [
    "#Memory usage before dtype changes= 21.4 MB\n",
    "\n",
    "datos_train.info(verbose=True)"
   ]
  },
  {
   "cell_type": "markdown",
   "id": "45fff03f",
   "metadata": {},
   "source": [
    "### Variables con typos "
   ]
  },
  {
   "cell_type": "code",
   "execution_count": 111,
   "id": "a3ba1fea",
   "metadata": {},
   "outputs": [],
   "source": [
    "datos_train['Age'] = datos_train['Age'].str.replace('_', '').astype('int64')\n",
    "datos_train['Annual_Income'] = datos_train['Annual_Income'].str.replace('_', '').astype('float64')"
   ]
  },
  {
   "cell_type": "code",
   "execution_count": 112,
   "id": "1a44f63e",
   "metadata": {},
   "outputs": [
    {
     "data": {
      "text/plain": [
       "8698"
      ]
     },
     "execution_count": 112,
     "metadata": {},
     "output_type": "execute_result"
    }
   ],
   "source": [
    "#tenemos que arreglar este error de alguna forma\n",
    "datos_train['Age'].max() #hay una edad que esta marcada como 8592"
   ]
  },
  {
   "cell_type": "code",
   "execution_count": null,
   "id": "e77ec5a1",
   "metadata": {},
   "outputs": [],
   "source": [
    "#Traducir a oython "
   ]
  },
  {
   "cell_type": "code",
   "execution_count": 98,
   "id": "d11cd842",
   "metadata": {},
   "outputs": [
    {
     "data": {
      "text/plain": [
       "array(['January', 'February', 'March', 'April', 'May', 'June', 'July',\n",
       "       'August'], dtype=object)"
      ]
     },
     "execution_count": 98,
     "metadata": {},
     "output_type": "execute_result"
    }
   ],
   "source": [
    "datos_train['Month'].unique()"
   ]
  },
  {
   "cell_type": "code",
   "execution_count": 97,
   "id": "9a6615dc",
   "metadata": {},
   "outputs": [
    {
     "name": "stdout",
     "output_type": "stream",
     "text": [
      "8592\n",
      "8592\n",
      "8639\n",
      "8697\n",
      "8698\n",
      "8682\n",
      "8666\n",
      "8678\n"
     ]
    }
   ],
   "source": [
    "#Este error pasa todos los meses?\n",
    "print(datos_train['Age'][datos_train['Month']=='January'].max())\n",
    "print(datos_train['Age'][datos_train['Month']=='February'].max())\n",
    "print(datos_train['Age'][datos_train['Month']=='March'].max())\n",
    "print(datos_train['Age'][datos_train['Month']=='April'].max())\n",
    "print(datos_train['Age'][datos_train['Month']=='May'].max())\n",
    "print(datos_train['Age'][datos_train['Month']=='June'].max())\n",
    "print(datos_train['Age'][datos_train['Month']=='July'].max())\n",
    "print(datos_train['Age'][datos_train['Month']=='August'].max())\n",
    "#Vemos que cada mes hay un problema con el maximo de edad"
   ]
  },
  {
   "cell_type": "code",
   "execution_count": 100,
   "id": "f2717ac2",
   "metadata": {},
   "outputs": [
    {
     "data": {
      "text/html": [
       "<div>\n",
       "<style scoped>\n",
       "    .dataframe tbody tr th:only-of-type {\n",
       "        vertical-align: middle;\n",
       "    }\n",
       "\n",
       "    .dataframe tbody tr th {\n",
       "        vertical-align: top;\n",
       "    }\n",
       "\n",
       "    .dataframe thead th {\n",
       "        text-align: right;\n",
       "    }\n",
       "</style>\n",
       "<table border=\"1\" class=\"dataframe\">\n",
       "  <thead>\n",
       "    <tr style=\"text-align: right;\">\n",
       "      <th></th>\n",
       "      <th>ID</th>\n",
       "      <th>Customer_ID</th>\n",
       "      <th>Month</th>\n",
       "      <th>Name</th>\n",
       "      <th>Age</th>\n",
       "      <th>SSN</th>\n",
       "      <th>Occupation</th>\n",
       "      <th>Annual_Income</th>\n",
       "      <th>Monthly_Inhand_Salary</th>\n",
       "      <th>Num_Bank_Accounts</th>\n",
       "      <th>...</th>\n",
       "      <th>Credit_Mix</th>\n",
       "      <th>Outstanding_Debt</th>\n",
       "      <th>Credit_Utilization_Ratio</th>\n",
       "      <th>Credit_History_Age</th>\n",
       "      <th>Payment_of_Min_Amount</th>\n",
       "      <th>Total_EMI_per_month</th>\n",
       "      <th>Amount_invested_monthly</th>\n",
       "      <th>Payment_Behaviour</th>\n",
       "      <th>Monthly_Balance</th>\n",
       "      <th>Credit_Score</th>\n",
       "    </tr>\n",
       "  </thead>\n",
       "  <tbody>\n",
       "    <tr>\n",
       "      <th>56</th>\n",
       "      <td>0x1656</td>\n",
       "      <td>CUS_0x5407</td>\n",
       "      <td>January</td>\n",
       "      <td>Annk</td>\n",
       "      <td>7580</td>\n",
       "      <td>500-92-6408</td>\n",
       "      <td>Media_Manager</td>\n",
       "      <td>34081.38</td>\n",
       "      <td>NaN</td>\n",
       "      <td>8</td>\n",
       "      <td>...</td>\n",
       "      <td>Standard</td>\n",
       "      <td>1704.18</td>\n",
       "      <td>24.448063</td>\n",
       "      <td>NaN</td>\n",
       "      <td>NM</td>\n",
       "      <td>70.478333</td>\n",
       "      <td>162.4410091967751</td>\n",
       "      <td>Low_spent_Large_value_payments</td>\n",
       "      <td>298.19215813115227</td>\n",
       "      <td>Poor</td>\n",
       "    </tr>\n",
       "    <tr>\n",
       "      <th>122</th>\n",
       "      <td>0x16b8</td>\n",
       "      <td>CUS_0x33d2</td>\n",
       "      <td>March</td>\n",
       "      <td>Chalmersa</td>\n",
       "      <td>181</td>\n",
       "      <td>965-46-2491</td>\n",
       "      <td>Scientist</td>\n",
       "      <td>31993.78</td>\n",
       "      <td>2942.0</td>\n",
       "      <td>6</td>\n",
       "      <td>...</td>\n",
       "      <td>Standard</td>\n",
       "      <td>818.22</td>\n",
       "      <td>27.380109</td>\n",
       "      <td>17 Years and 0 Months</td>\n",
       "      <td>Yes</td>\n",
       "      <td>45.141298</td>\n",
       "      <td>264.25708850339777</td>\n",
       "      <td>Low_spent_Small_value_payments</td>\n",
       "      <td>274.8164466052998</td>\n",
       "      <td>Standard</td>\n",
       "    </tr>\n",
       "    <tr>\n",
       "      <th>219</th>\n",
       "      <td>0x1749</td>\n",
       "      <td>CUS_0x3edc</td>\n",
       "      <td>April</td>\n",
       "      <td>Williamso</td>\n",
       "      <td>995</td>\n",
       "      <td>663-16-3845</td>\n",
       "      <td>Accountant</td>\n",
       "      <td>43070.24</td>\n",
       "      <td>3622.0</td>\n",
       "      <td>3</td>\n",
       "      <td>...</td>\n",
       "      <td>Standard</td>\n",
       "      <td>1233.1</td>\n",
       "      <td>24.331772</td>\n",
       "      <td>19 Years and 5 Months</td>\n",
       "      <td>Yes</td>\n",
       "      <td>30.576085</td>\n",
       "      <td>74.92037487328841</td>\n",
       "      <td>High_spent_Medium_value_payments</td>\n",
       "      <td>506.7222069702167</td>\n",
       "      <td>Standard</td>\n",
       "    </tr>\n",
       "    <tr>\n",
       "      <th>243</th>\n",
       "      <td>0x176d</td>\n",
       "      <td>CUS_0x9a71</td>\n",
       "      <td>April</td>\n",
       "      <td>NaN</td>\n",
       "      <td>5079</td>\n",
       "      <td>889-07-2357</td>\n",
       "      <td>Scientist</td>\n",
       "      <td>20186.02</td>\n",
       "      <td>1684.0</td>\n",
       "      <td>1</td>\n",
       "      <td>...</td>\n",
       "      <td>Good</td>\n",
       "      <td>413.32</td>\n",
       "      <td>22.743582</td>\n",
       "      <td>18 Years and 6 Months</td>\n",
       "      <td>No</td>\n",
       "      <td>29.534584</td>\n",
       "      <td>104.72383354456407</td>\n",
       "      <td>High_spent_Small_value_payments</td>\n",
       "      <td>294.1584160682732</td>\n",
       "      <td>Good</td>\n",
       "    </tr>\n",
       "    <tr>\n",
       "      <th>288</th>\n",
       "      <td>0x17b2</td>\n",
       "      <td>CUS_0x4080</td>\n",
       "      <td>January</td>\n",
       "      <td>ra Alperx</td>\n",
       "      <td>6409</td>\n",
       "      <td>995-37-8920</td>\n",
       "      <td>Mechanic</td>\n",
       "      <td>29469.98</td>\n",
       "      <td>2228.0</td>\n",
       "      <td>1231</td>\n",
       "      <td>...</td>\n",
       "      <td>_</td>\n",
       "      <td>3421.66</td>\n",
       "      <td>24.639658</td>\n",
       "      <td>NaN</td>\n",
       "      <td>Yes</td>\n",
       "      <td>69.685459</td>\n",
       "      <td>59.825596124675045</td>\n",
       "      <td>!@9#%8</td>\n",
       "      <td>363.27211196971183</td>\n",
       "      <td>Standard</td>\n",
       "    </tr>\n",
       "    <tr>\n",
       "      <th>...</th>\n",
       "      <td>...</td>\n",
       "      <td>...</td>\n",
       "      <td>...</td>\n",
       "      <td>...</td>\n",
       "      <td>...</td>\n",
       "      <td>...</td>\n",
       "      <td>...</td>\n",
       "      <td>...</td>\n",
       "      <td>...</td>\n",
       "      <td>...</td>\n",
       "      <td>...</td>\n",
       "      <td>...</td>\n",
       "      <td>...</td>\n",
       "      <td>...</td>\n",
       "      <td>...</td>\n",
       "      <td>...</td>\n",
       "      <td>...</td>\n",
       "      <td>...</td>\n",
       "      <td>...</td>\n",
       "      <td>...</td>\n",
       "      <td>...</td>\n",
       "    </tr>\n",
       "    <tr>\n",
       "      <th>99877</th>\n",
       "      <td>0x25f37</td>\n",
       "      <td>CUS_0x3855</td>\n",
       "      <td>June</td>\n",
       "      <td>Xolai</td>\n",
       "      <td>6476</td>\n",
       "      <td>963-55-7106</td>\n",
       "      <td>Scientist</td>\n",
       "      <td>118677.54</td>\n",
       "      <td>9960.0</td>\n",
       "      <td>4</td>\n",
       "      <td>...</td>\n",
       "      <td>Good</td>\n",
       "      <td>995.47</td>\n",
       "      <td>38.556181</td>\n",
       "      <td>30 Years and 4 Months</td>\n",
       "      <td>No</td>\n",
       "      <td>237.106366</td>\n",
       "      <td>231.2765296325449</td>\n",
       "      <td>High_spent_Large_value_payments</td>\n",
       "      <td>767.996604</td>\n",
       "      <td>Good</td>\n",
       "    </tr>\n",
       "    <tr>\n",
       "      <th>99908</th>\n",
       "      <td>0x25f66</td>\n",
       "      <td>CUS_0xa053</td>\n",
       "      <td>May</td>\n",
       "      <td>t Astridn</td>\n",
       "      <td>4808</td>\n",
       "      <td>094-81-5856</td>\n",
       "      <td>Writer</td>\n",
       "      <td>87695.34</td>\n",
       "      <td>7336.0</td>\n",
       "      <td>2</td>\n",
       "      <td>...</td>\n",
       "      <td>Good</td>\n",
       "      <td>361.68</td>\n",
       "      <td>28.147193</td>\n",
       "      <td>19 Years and 5 Months</td>\n",
       "      <td>No</td>\n",
       "      <td>65671.000000</td>\n",
       "      <td>168.79878418602146</td>\n",
       "      <td>High_spent_Large_value_payments</td>\n",
       "      <td>804.995716</td>\n",
       "      <td>Standard</td>\n",
       "    </tr>\n",
       "    <tr>\n",
       "      <th>99913</th>\n",
       "      <td>0x25f6f</td>\n",
       "      <td>CUS_0x1619</td>\n",
       "      <td>February</td>\n",
       "      <td>Phil Wahbao</td>\n",
       "      <td>2263</td>\n",
       "      <td>683-59-7399</td>\n",
       "      <td>Media_Manager</td>\n",
       "      <td>20059.98</td>\n",
       "      <td>1524.0</td>\n",
       "      <td>8</td>\n",
       "      <td>...</td>\n",
       "      <td>Good</td>\n",
       "      <td>909.01</td>\n",
       "      <td>25.982154</td>\n",
       "      <td>16 Years and 4 Months</td>\n",
       "      <td>No</td>\n",
       "      <td>45.076827</td>\n",
       "      <td>74.71358019803843</td>\n",
       "      <td>High_spent_Small_value_payments</td>\n",
       "      <td>292.576093</td>\n",
       "      <td>Poor</td>\n",
       "    </tr>\n",
       "    <tr>\n",
       "      <th>99950</th>\n",
       "      <td>0x25fa4</td>\n",
       "      <td>CUS_0x51b3</td>\n",
       "      <td>July</td>\n",
       "      <td>Ryana</td>\n",
       "      <td>1342</td>\n",
       "      <td>837-85-9800</td>\n",
       "      <td>Media_Manager</td>\n",
       "      <td>59146.36</td>\n",
       "      <td>4908.0</td>\n",
       "      <td>3</td>\n",
       "      <td>...</td>\n",
       "      <td>_</td>\n",
       "      <td>418.03</td>\n",
       "      <td>38.199635</td>\n",
       "      <td>20 Years and 7 Months</td>\n",
       "      <td>No</td>\n",
       "      <td>26.778419</td>\n",
       "      <td>502.3763201756033</td>\n",
       "      <td>Low_spent_Small_value_payments</td>\n",
       "      <td>251.731594</td>\n",
       "      <td>Standard</td>\n",
       "    </tr>\n",
       "    <tr>\n",
       "      <th>99972</th>\n",
       "      <td>0x25fc6</td>\n",
       "      <td>CUS_0xf16</td>\n",
       "      <td>May</td>\n",
       "      <td>Maria Sheahanb</td>\n",
       "      <td>1753</td>\n",
       "      <td>868-70-2218</td>\n",
       "      <td>Media_Manager</td>\n",
       "      <td>16680.35</td>\n",
       "      <td>1528.0</td>\n",
       "      <td>1</td>\n",
       "      <td>...</td>\n",
       "      <td>Good</td>\n",
       "      <td>897.16</td>\n",
       "      <td>37.788217</td>\n",
       "      <td>21 Years and 5 Months</td>\n",
       "      <td>No</td>\n",
       "      <td>41.113561</td>\n",
       "      <td>64.54974829039807</td>\n",
       "      <td>Low_spent_Large_value_payments</td>\n",
       "      <td>317.139608</td>\n",
       "      <td>Standard</td>\n",
       "    </tr>\n",
       "  </tbody>\n",
       "</table>\n",
       "<p>1891 rows × 28 columns</p>\n",
       "</div>"
      ],
      "text/plain": [
       "            ID Customer_ID     Month            Name   Age          SSN  \\\n",
       "56      0x1656  CUS_0x5407   January            Annk  7580  500-92-6408   \n",
       "122     0x16b8  CUS_0x33d2     March       Chalmersa   181  965-46-2491   \n",
       "219     0x1749  CUS_0x3edc     April       Williamso   995  663-16-3845   \n",
       "243     0x176d  CUS_0x9a71     April             NaN  5079  889-07-2357   \n",
       "288     0x17b2  CUS_0x4080   January       ra Alperx  6409  995-37-8920   \n",
       "...        ...         ...       ...             ...   ...          ...   \n",
       "99877  0x25f37  CUS_0x3855      June           Xolai  6476  963-55-7106   \n",
       "99908  0x25f66  CUS_0xa053       May       t Astridn  4808  094-81-5856   \n",
       "99913  0x25f6f  CUS_0x1619  February     Phil Wahbao  2263  683-59-7399   \n",
       "99950  0x25fa4  CUS_0x51b3      July           Ryana  1342  837-85-9800   \n",
       "99972  0x25fc6   CUS_0xf16       May  Maria Sheahanb  1753  868-70-2218   \n",
       "\n",
       "          Occupation  Annual_Income  Monthly_Inhand_Salary  Num_Bank_Accounts  \\\n",
       "56     Media_Manager       34081.38                    NaN                  8   \n",
       "122        Scientist       31993.78                 2942.0                  6   \n",
       "219       Accountant       43070.24                 3622.0                  3   \n",
       "243        Scientist       20186.02                 1684.0                  1   \n",
       "288         Mechanic       29469.98                 2228.0               1231   \n",
       "...              ...            ...                    ...                ...   \n",
       "99877      Scientist      118677.54                 9960.0                  4   \n",
       "99908         Writer       87695.34                 7336.0                  2   \n",
       "99913  Media_Manager       20059.98                 1524.0                  8   \n",
       "99950  Media_Manager       59146.36                 4908.0                  3   \n",
       "99972  Media_Manager       16680.35                 1528.0                  1   \n",
       "\n",
       "       ...  Credit_Mix  Outstanding_Debt Credit_Utilization_Ratio  \\\n",
       "56     ...    Standard           1704.18                24.448063   \n",
       "122    ...    Standard            818.22                27.380109   \n",
       "219    ...    Standard            1233.1                24.331772   \n",
       "243    ...        Good            413.32                22.743582   \n",
       "288    ...           _           3421.66                24.639658   \n",
       "...    ...         ...               ...                      ...   \n",
       "99877  ...        Good            995.47                38.556181   \n",
       "99908  ...        Good            361.68                28.147193   \n",
       "99913  ...        Good            909.01                25.982154   \n",
       "99950  ...           _            418.03                38.199635   \n",
       "99972  ...        Good            897.16                37.788217   \n",
       "\n",
       "          Credit_History_Age  Payment_of_Min_Amount Total_EMI_per_month  \\\n",
       "56                       NaN                     NM           70.478333   \n",
       "122    17 Years and 0 Months                    Yes           45.141298   \n",
       "219    19 Years and 5 Months                    Yes           30.576085   \n",
       "243    18 Years and 6 Months                     No           29.534584   \n",
       "288                      NaN                    Yes           69.685459   \n",
       "...                      ...                    ...                 ...   \n",
       "99877  30 Years and 4 Months                     No          237.106366   \n",
       "99908  19 Years and 5 Months                     No        65671.000000   \n",
       "99913  16 Years and 4 Months                     No           45.076827   \n",
       "99950  20 Years and 7 Months                     No           26.778419   \n",
       "99972  21 Years and 5 Months                     No           41.113561   \n",
       "\n",
       "      Amount_invested_monthly                 Payment_Behaviour  \\\n",
       "56          162.4410091967751    Low_spent_Large_value_payments   \n",
       "122        264.25708850339777    Low_spent_Small_value_payments   \n",
       "219         74.92037487328841  High_spent_Medium_value_payments   \n",
       "243        104.72383354456407   High_spent_Small_value_payments   \n",
       "288        59.825596124675045                            !@9#%8   \n",
       "...                       ...                               ...   \n",
       "99877       231.2765296325449   High_spent_Large_value_payments   \n",
       "99908      168.79878418602146   High_spent_Large_value_payments   \n",
       "99913       74.71358019803843   High_spent_Small_value_payments   \n",
       "99950       502.3763201756033    Low_spent_Small_value_payments   \n",
       "99972       64.54974829039807    Low_spent_Large_value_payments   \n",
       "\n",
       "          Monthly_Balance Credit_Score  \n",
       "56     298.19215813115227         Poor  \n",
       "122     274.8164466052998     Standard  \n",
       "219     506.7222069702167     Standard  \n",
       "243     294.1584160682732         Good  \n",
       "288    363.27211196971183     Standard  \n",
       "...                   ...          ...  \n",
       "99877          767.996604         Good  \n",
       "99908          804.995716     Standard  \n",
       "99913          292.576093         Poor  \n",
       "99950          251.731594     Standard  \n",
       "99972          317.139608     Standard  \n",
       "\n",
       "[1891 rows x 28 columns]"
      ]
     },
     "execution_count": 100,
     "metadata": {},
     "output_type": "execute_result"
    }
   ],
   "source": [
    "datos_train[datos_train['Age']>=100]"
   ]
  },
  {
   "cell_type": "code",
   "execution_count": 90,
   "id": "159e8791",
   "metadata": {},
   "outputs": [
    {
     "data": {
      "text/plain": [
       "0.20    22.0\n",
       "0.40    30.0\n",
       "0.50    33.0\n",
       "0.60    37.0\n",
       "0.80    44.0\n",
       "0.90    50.0\n",
       "0.95    53.0\n",
       "Name: Age, dtype: float64"
      ]
     },
     "execution_count": 90,
     "metadata": {},
     "output_type": "execute_result"
    }
   ],
   "source": [
    "datos_train['Age'].quantile([.2,.4,.5,.6,.8,.9,.95])"
   ]
  },
  {
   "cell_type": "markdown",
   "id": "45a9bf87",
   "metadata": {},
   "source": [
    "### Cambio de formato para cada columna"
   ]
  },
  {
   "cell_type": "markdown",
   "id": "195abe4e",
   "metadata": {},
   "source": [
    "### Cambiando todos los que esten guardados como formato objeto\n",
    "\n",
    "Es mejor tenerlo en categorias o numericos: usan menos memoria y tambien "
   ]
  },
  {
   "cell_type": "code",
   "execution_count": 48,
   "id": "4990b53c",
   "metadata": {},
   "outputs": [
    {
     "data": {
      "text/plain": [
       "1200000"
      ]
     },
     "execution_count": 48,
     "metadata": {},
     "output_type": "execute_result"
    }
   ],
   "source": [
    "#En esta seccion cambiamos el formato de las columnas para que se ocupe menos memoria en cada una y podamos\n",
    "#agilizar los procesos, ademas nos permite usar metodos para str o categorical dependiendo de la columna\n",
    "#800,000 bytes antes del cambio\n",
    "#En esta parte nos podemos dar cuenta si hay algunos datos numericos con errores en particular, los errores pueden\n",
    "#Estar en las columnas que estan guardadas como objetos, pero en realidad deberian estar guardadas como int o float\n",
    "datos_train['ID'].nbytes"
   ]
  },
  {
   "cell_type": "code",
   "execution_count": 37,
   "id": "32a304ea",
   "metadata": {},
   "outputs": [
    {
     "data": {
      "text/plain": [
       "1200000"
      ]
     },
     "execution_count": 37,
     "metadata": {},
     "output_type": "execute_result"
    }
   ],
   "source": [
    "#cambiamos a categorical\n",
    "#120,000 bytes despues del cambio\n",
    "datos_train['ID']=datos_train['ID'].astype('category')\n",
    "datos_train['ID'].nbytes"
   ]
  },
  {
   "cell_type": "code",
   "execution_count": 39,
   "id": "751e9c3d",
   "metadata": {},
   "outputs": [
    {
     "name": "stdout",
     "output_type": "stream",
     "text": [
      "300000\n",
      "300000\n"
     ]
    }
   ],
   "source": [
    "#Cambiamos a categorical Custumer_ID\n",
    "#800,000 bytes antes del cambio y 300,000 bytes despues del cambio\n",
    "print(datos_train['Customer_ID'].nbytes)\n",
    "datos_train['Customer_ID']=datos_train['Customer_ID'].astype('category')\n",
    "print(datos_train['Customer_ID'].nbytes)"
   ]
  },
  {
   "cell_type": "code",
   "execution_count": 40,
   "id": "e71d929d",
   "metadata": {},
   "outputs": [
    {
     "name": "stdout",
     "output_type": "stream",
     "text": [
      "800000\n",
      "100064\n"
     ]
    }
   ],
   "source": [
    "#Cambiamos a categorical Month\n",
    "#800,000 bytes antes del cambio y 100,000 bytes despues del cambio\n",
    "print(datos_train['Month'].nbytes)\n",
    "datos_train['Month']=datos_train['Month'].astype('category')\n",
    "print(datos_train['Month'].nbytes)"
   ]
  },
  {
   "cell_type": "code",
   "execution_count": 45,
   "id": "988f2e99",
   "metadata": {},
   "outputs": [
    {
     "name": "stdout",
     "output_type": "stream",
     "text": [
      "800000\n",
      "281112\n"
     ]
    }
   ],
   "source": [
    "#Cambiamos a categorical Name\n",
    "#800,000 bytes antes del cambio y 281,000 bytes despues del cambio\n",
    "print(datos_train['Name'].nbytes)\n",
    "datos_train['Name']=datos_train['Name'].astype('category')\n",
    "print(datos_train['Name'].nbytes)"
   ]
  },
  {
   "cell_type": "code",
   "execution_count": 46,
   "id": "b63ba40a",
   "metadata": {},
   "outputs": [
    {
     "name": "stdout",
     "output_type": "stream",
     "text": [
      "800000\n",
      "300008\n"
     ]
    }
   ],
   "source": [
    "#Cambiamos a categorical SSN\n",
    "#800,000 bytes antes del cambio y 300,000 bytes despues del cambio\n",
    "print(datos_train['SSN'].nbytes)\n",
    "datos_train['SSN']=datos_train['SSN'].astype('category')\n",
    "print(datos_train['SSN'].nbytes)"
   ]
  },
  {
   "cell_type": "code",
   "execution_count": 47,
   "id": "66031b08",
   "metadata": {},
   "outputs": [
    {
     "name": "stdout",
     "output_type": "stream",
     "text": [
      "800000\n",
      "100128\n"
     ]
    }
   ],
   "source": [
    "#Cambiamos a categorical Occupation\n",
    "#800,000 bytes antes del cambio y 100,000 bytes despues del cambio\n",
    "print(datos_train['Occupation'].nbytes)\n",
    "datos_train['Occupation']=datos_train['Occupation'].astype('category')\n",
    "print(datos_train['Occupation'].nbytes)"
   ]
  },
  {
   "cell_type": "code",
   "execution_count": 84,
   "id": "8cd9e219",
   "metadata": {},
   "outputs": [
    {
     "name": "stdout",
     "output_type": "stream",
     "text": [
      "800000\n",
      "200000\n"
     ]
    }
   ],
   "source": [
    "#Cambiamos a categorical Monthly_Inhand_Salary\n",
    "#800,000 bytes antes del cambio y 200,000 bytes despues del cambio\n",
    "print(datos_train['Monthly_Inhand_Salary'].nbytes)\n",
    "datos_train['Monthly_Inhand_Salary']=datos_train['Monthly_Inhand_Salary'].astype('float16')\n",
    "print(datos_train['Monthly_Inhand_Salary'].nbytes)"
   ]
  },
  {
   "cell_type": "code",
   "execution_count": 84,
   "id": "fab9d155",
   "metadata": {},
   "outputs": [
    {
     "name": "stdout",
     "output_type": "stream",
     "text": [
      "800000\n",
      "200000\n"
     ]
    }
   ],
   "source": [
    "#Cambiamos a categorical Monthly_Inhand_Salary\n",
    "#800,000 bytes antes del cambio y 200,000 bytes despues del cambio\n",
    "print(datos_train['Monthly_Inhand_Salary'].nbytes)\n",
    "datos_train['Monthly_Inhand_Salary']=datos_train['Monthly_Inhand_Salary'].astype('float16')\n",
    "print(datos_train['Monthly_Inhand_Salary'].nbytes)"
   ]
  },
  {
   "cell_type": "code",
   "execution_count": 40,
   "id": "08d521f1",
   "metadata": {},
   "outputs": [
    {
     "name": "stdout",
     "output_type": "stream",
     "text": [
      "800000\n",
      "100064\n"
     ]
    }
   ],
   "source": [
    "#Cambiamos a categorical Month\n",
    "#800,000 bytes antes del cambio y 100,000 bytes despues del cambio\n",
    "print(datos_train['Month'].nbytes)\n",
    "datos_train['Month']=datos_train['Month'].astype('category')\n",
    "print(datos_train['Month'].nbytes)"
   ]
  },
  {
   "cell_type": "code",
   "execution_count": 40,
   "id": "258eab54",
   "metadata": {},
   "outputs": [
    {
     "name": "stdout",
     "output_type": "stream",
     "text": [
      "800000\n",
      "100064\n"
     ]
    }
   ],
   "source": [
    "#Cambiamos a categorical Month\n",
    "#800,000 bytes antes del cambio y 100,000 bytes despues del cambio\n",
    "print(datos_train['Month'].nbytes)\n",
    "datos_train['Month']=datos_train['Month'].astype('category')\n",
    "print(datos_train['Month'].nbytes)"
   ]
  },
  {
   "cell_type": "code",
   "execution_count": null,
   "id": "4dc769e2",
   "metadata": {},
   "outputs": [],
   "source": [
    "# Resolver problema de 'Age' (hay algunas edades que tienen un _ despues del numero)"
   ]
  },
  {
   "cell_type": "markdown",
   "id": "d794935b",
   "metadata": {},
   "source": [
    "### Exploracion inicial de un solo mes de los datos para generar el EDA"
   ]
  },
  {
   "cell_type": "code",
   "execution_count": 9,
   "id": "b642599d",
   "metadata": {},
   "outputs": [],
   "source": [
    "#Filtro para meses\n",
    "filtro_enero=datos_train['Month']=='January'"
   ]
  },
  {
   "cell_type": "code",
   "execution_count": 10,
   "id": "9bcc9c74",
   "metadata": {},
   "outputs": [],
   "source": [
    "Jan_tr=datos_train[filtro_enero]"
   ]
  },
  {
   "cell_type": "code",
   "execution_count": 11,
   "id": "26a44388",
   "metadata": {},
   "outputs": [
    {
     "data": {
      "text/html": [
       "<div>\n",
       "<style scoped>\n",
       "    .dataframe tbody tr th:only-of-type {\n",
       "        vertical-align: middle;\n",
       "    }\n",
       "\n",
       "    .dataframe tbody tr th {\n",
       "        vertical-align: top;\n",
       "    }\n",
       "\n",
       "    .dataframe thead th {\n",
       "        text-align: right;\n",
       "    }\n",
       "</style>\n",
       "<table border=\"1\" class=\"dataframe\">\n",
       "  <thead>\n",
       "    <tr style=\"text-align: right;\">\n",
       "      <th></th>\n",
       "      <th>Monthly_Inhand_Salary</th>\n",
       "      <th>Num_Bank_Accounts</th>\n",
       "      <th>Num_Credit_Card</th>\n",
       "      <th>Interest_Rate</th>\n",
       "      <th>Delay_from_due_date</th>\n",
       "      <th>Num_Credit_Inquiries</th>\n",
       "      <th>Credit_Utilization_Ratio</th>\n",
       "      <th>Total_EMI_per_month</th>\n",
       "    </tr>\n",
       "  </thead>\n",
       "  <tbody>\n",
       "    <tr>\n",
       "      <th>count</th>\n",
       "      <td>10639.000000</td>\n",
       "      <td>12500.000000</td>\n",
       "      <td>12500.000000</td>\n",
       "      <td>12500.00000</td>\n",
       "      <td>12500.000000</td>\n",
       "      <td>12264.000000</td>\n",
       "      <td>12500.000000</td>\n",
       "      <td>12500.000000</td>\n",
       "    </tr>\n",
       "    <tr>\n",
       "      <th>mean</th>\n",
       "      <td>4199.465763</td>\n",
       "      <td>17.275120</td>\n",
       "      <td>21.647680</td>\n",
       "      <td>69.46520</td>\n",
       "      <td>21.051440</td>\n",
       "      <td>24.591650</td>\n",
       "      <td>32.291949</td>\n",
       "      <td>1303.781040</td>\n",
       "    </tr>\n",
       "    <tr>\n",
       "      <th>std</th>\n",
       "      <td>3195.283895</td>\n",
       "      <td>118.518214</td>\n",
       "      <td>123.789969</td>\n",
       "      <td>455.95698</td>\n",
       "      <td>14.859994</td>\n",
       "      <td>183.422458</td>\n",
       "      <td>5.084327</td>\n",
       "      <td>8118.261086</td>\n",
       "    </tr>\n",
       "    <tr>\n",
       "      <th>min</th>\n",
       "      <td>303.645417</td>\n",
       "      <td>0.000000</td>\n",
       "      <td>1.000000</td>\n",
       "      <td>1.00000</td>\n",
       "      <td>-5.000000</td>\n",
       "      <td>0.000000</td>\n",
       "      <td>20.992914</td>\n",
       "      <td>0.000000</td>\n",
       "    </tr>\n",
       "    <tr>\n",
       "      <th>25%</th>\n",
       "      <td>1624.265000</td>\n",
       "      <td>3.000000</td>\n",
       "      <td>4.000000</td>\n",
       "      <td>8.00000</td>\n",
       "      <td>10.000000</td>\n",
       "      <td>2.000000</td>\n",
       "      <td>28.110034</td>\n",
       "      <td>29.128806</td>\n",
       "    </tr>\n",
       "    <tr>\n",
       "      <th>50%</th>\n",
       "      <td>3081.902500</td>\n",
       "      <td>6.000000</td>\n",
       "      <td>5.000000</td>\n",
       "      <td>13.00000</td>\n",
       "      <td>18.000000</td>\n",
       "      <td>4.000000</td>\n",
       "      <td>32.297912</td>\n",
       "      <td>66.372879</td>\n",
       "    </tr>\n",
       "    <tr>\n",
       "      <th>75%</th>\n",
       "      <td>5973.520833</td>\n",
       "      <td>7.000000</td>\n",
       "      <td>7.000000</td>\n",
       "      <td>20.00000</td>\n",
       "      <td>28.000000</td>\n",
       "      <td>8.000000</td>\n",
       "      <td>36.458660</td>\n",
       "      <td>149.904496</td>\n",
       "    </tr>\n",
       "    <tr>\n",
       "      <th>max</th>\n",
       "      <td>15204.633333</td>\n",
       "      <td>1779.000000</td>\n",
       "      <td>1479.000000</td>\n",
       "      <td>5788.00000</td>\n",
       "      <td>67.000000</td>\n",
       "      <td>2592.000000</td>\n",
       "      <td>49.564519</td>\n",
       "      <td>82122.000000</td>\n",
       "    </tr>\n",
       "  </tbody>\n",
       "</table>\n",
       "</div>"
      ],
      "text/plain": [
       "       Monthly_Inhand_Salary  Num_Bank_Accounts  Num_Credit_Card  \\\n",
       "count           10639.000000       12500.000000     12500.000000   \n",
       "mean             4199.465763          17.275120        21.647680   \n",
       "std              3195.283895         118.518214       123.789969   \n",
       "min               303.645417           0.000000         1.000000   \n",
       "25%              1624.265000           3.000000         4.000000   \n",
       "50%              3081.902500           6.000000         5.000000   \n",
       "75%              5973.520833           7.000000         7.000000   \n",
       "max             15204.633333        1779.000000      1479.000000   \n",
       "\n",
       "       Interest_Rate  Delay_from_due_date  Num_Credit_Inquiries  \\\n",
       "count    12500.00000         12500.000000          12264.000000   \n",
       "mean        69.46520            21.051440             24.591650   \n",
       "std        455.95698            14.859994            183.422458   \n",
       "min          1.00000            -5.000000              0.000000   \n",
       "25%          8.00000            10.000000              2.000000   \n",
       "50%         13.00000            18.000000              4.000000   \n",
       "75%         20.00000            28.000000              8.000000   \n",
       "max       5788.00000            67.000000           2592.000000   \n",
       "\n",
       "       Credit_Utilization_Ratio  Total_EMI_per_month  \n",
       "count              12500.000000         12500.000000  \n",
       "mean                  32.291949          1303.781040  \n",
       "std                    5.084327          8118.261086  \n",
       "min                   20.992914             0.000000  \n",
       "25%                   28.110034            29.128806  \n",
       "50%                   32.297912            66.372879  \n",
       "75%                   36.458660           149.904496  \n",
       "max                   49.564519         82122.000000  "
      ]
     },
     "execution_count": 11,
     "metadata": {},
     "output_type": "execute_result"
    }
   ],
   "source": [
    "Jan_tr.describe()"
   ]
  },
  {
   "cell_type": "markdown",
   "id": "8a0f339b",
   "metadata": {},
   "source": [
    "ID                      :Represents a unique identification of an entry\n",
    "Customer_ID             :Represents a unique identification of a person\n",
    "Month                   :Represents the month of the year\n",
    "Name                    :Represents the name of a person\n",
    "Age                     :Represents the age of the person\n",
    "SSN                     :Represents the social security number of a person\n",
    "Occupation              :Represents the occupation of the person\n",
    "Annual_Income           :Represents the annual income of the person\n",
    "Monthly_Inhand_Salary   :Represents the monthly base salary of a person\n",
    "Num_Bank_Accounts       :Represents the number of bank accounts a person holds\n",
    "Num_Credit_Card         :Represents the number of other credit cards held by a person\n",
    "Interest_Rate           :Represents the interest rate on credit card\n",
    "Num_of_Loan             :Represents the number of loans taken from the bank\n",
    "Type_of_Loan            :Represents the types of loan taken by a person\n",
    "Delay_from_due_date     :Represents the average number of days delayed from the payment date\n",
    "Num_of_Delayed_Payment  :Represents the average number of payments delayed by a person\n",
    "Changed_Credit_Limit    :Represents the percentage change in credit card limit\n",
    "Num_Credit_Inquiries    :Represents the number of credit card inquiries (An inquiry refers to a request to look at                          your credit file and falls into one of two camps: hard or soft. A credit inquiry occurs                            when you apply for a credit card or loan and permit the issuer or lender to check your                            credit. Some inquiries have no effect on your credit, but others can lower your credit                             score.)\n",
    "Credit_Mix              :Represents the classification of the mix of credits\n",
    "Outstanding_Debt        :Represents the remaining debt to be paid (in USD)\n",
    "Credit_Utilization_Ratio:Represents the utilization ratio of credit card\n",
    "Credit_History_Age      :Represents the age of credit history of the person\n",
    "Payment_of_Min_Amount   :Represents whether only the minimum amount was paid by the person\n",
    "Total_EMI_per_month     :Represents the monthly EMI payments (in USD)\n",
    "Amount_invested_monthly :Represents the monthly amount invested by the customer (in USD)\n",
    "Payment_Behaviour       :Represents the payment behavior of the customer (in USD)\n",
    "Monthly_Balance         :Represents the monthly balance amount of the customer (in USD)\n",
    "Credit_Score            :Represents the bracket of credit score (Poor, Standard, Good)"
   ]
  },
  {
   "cell_type": "markdown",
   "id": "55ba5849",
   "metadata": {},
   "source": [
    "Profiling de los datos tomando solo ciertas caracteristicas basicas iniciales"
   ]
  },
  {
   "cell_type": "code",
   "execution_count": 12,
   "id": "2e322582",
   "metadata": {},
   "outputs": [],
   "source": [
    "#columnas de descripcion general fast EDA\n",
    "columnas_FEDA=['Month', 'Age', 'Occupation',\n",
    "       'Annual_Income', 'Monthly_Inhand_Salary', 'Num_Bank_Accounts',\n",
    "       'Num_Credit_Card', 'Interest_Rate', 'Num_of_Loan', 'Type_of_Loan',\n",
    "       'Delay_from_due_date', 'Num_of_Delayed_Payment', 'Changed_Credit_Limit',\n",
    "       'Num_Credit_Inquiries', 'Credit_Mix', 'Outstanding_Debt',\n",
    "       'Credit_Utilization_Ratio', 'Credit_History_Age',\n",
    "       'Payment_of_Min_Amount', 'Total_EMI_per_month',\n",
    "       'Amount_invested_monthly', 'Payment_Behaviour', 'Monthly_Balance',\n",
    "       'Credit_Score']"
   ]
  },
  {
   "cell_type": "code",
   "execution_count": 13,
   "id": "2a4056aa",
   "metadata": {},
   "outputs": [],
   "source": [
    "Jan_tr_pr=Jan_tr[columnas_FEDA]"
   ]
  },
  {
   "cell_type": "code",
   "execution_count": 14,
   "id": "cb6962d3",
   "metadata": {},
   "outputs": [],
   "source": [
    "profile_jan=pp.ProfileReport(Jan_tr_pr)"
   ]
  },
  {
   "cell_type": "code",
   "execution_count": 15,
   "id": "c33ccb24",
   "metadata": {},
   "outputs": [
    {
     "data": {
      "application/vnd.jupyter.widget-view+json": {
       "model_id": "a9f0b0343ca84074ac1cf513c5098706",
       "version_major": 2,
       "version_minor": 0
      },
      "text/plain": [
       "Summarize dataset:   0%|          | 0/26 [00:00<?, ?it/s]"
      ]
     },
     "metadata": {},
     "output_type": "display_data"
    },
    {
     "data": {
      "application/vnd.jupyter.widget-view+json": {
       "model_id": "245bb3eacc9f401b8f0639e37b822b2c",
       "version_major": 2,
       "version_minor": 0
      },
      "text/plain": [
       "Generate report structure:   0%|          | 0/1 [00:00<?, ?it/s]"
      ]
     },
     "metadata": {},
     "output_type": "display_data"
    },
    {
     "data": {
      "application/vnd.jupyter.widget-view+json": {
       "model_id": "63a7445199e74aa3bd3af69e7bf95d0d",
       "version_major": 2,
       "version_minor": 0
      },
      "text/plain": [
       "Render HTML:   0%|          | 0/1 [00:00<?, ?it/s]"
      ]
     },
     "metadata": {},
     "output_type": "display_data"
    },
    {
     "data": {
      "application/vnd.jupyter.widget-view+json": {
       "model_id": "fc4d3ce7a1674513a774a5a2a2839b04",
       "version_major": 2,
       "version_minor": 0
      },
      "text/plain": [
       "Export report to file:   0%|          | 0/1 [00:00<?, ?it/s]"
      ]
     },
     "metadata": {},
     "output_type": "display_data"
    }
   ],
   "source": [
    "profile_jan.to_file('JanuaryProfiling.html')"
   ]
  },
  {
   "cell_type": "markdown",
   "id": "acd7e222",
   "metadata": {},
   "source": [
    "## Data Engineering"
   ]
  },
  {
   "cell_type": "markdown",
   "id": "4cf3e4df",
   "metadata": {},
   "source": [
    "1) lidiar con:\n",
    "- Num_Credit_Card\n",
    "- Interest_Rate\n",
    "- Num_of_Loan\n",
    "- Type_of_Loan\n",
    "- Num_Credit_Inquiries\n",
    "\n",
    "\n",
    "2) "
   ]
  },
  {
   "cell_type": "markdown",
   "id": "58bb19da",
   "metadata": {},
   "source": [
    "#Por hacer:\n",
    "1) Rellenar missing values de variables evidentes\n",
    "1) Separar la columna de Type_of_Loan: pq?- el credito al consumo no es igual a otro tipo de creditos, tener dummies por tipo de creditos y relacionarlo con otras variables es importante para entender el comportamiento de los clientes. Posiblemente la gente que tiene creditos al consumo es mas propensa a defaultear por lo tanto tienen peor score crediticio."
   ]
  }
 ],
 "metadata": {
  "kernelspec": {
   "display_name": "Python 3 (ipykernel)",
   "language": "python",
   "name": "python3"
  },
  "language_info": {
   "codemirror_mode": {
    "name": "ipython",
    "version": 3
   },
   "file_extension": ".py",
   "mimetype": "text/x-python",
   "name": "python",
   "nbconvert_exporter": "python",
   "pygments_lexer": "ipython3",
   "version": "3.10.4"
  }
 },
 "nbformat": 4,
 "nbformat_minor": 5
}
