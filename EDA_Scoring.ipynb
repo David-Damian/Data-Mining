{
 "cells": [
  {
   "cell_type": "markdown",
   "id": "e10d34dc",
   "metadata": {},
   "source": [
    "# Proyecto Mineria de Datos: Credit Scores"
   ]
  },
  {
   "cell_type": "code",
   "execution_count": 1,
   "id": "2d34c42b",
   "metadata": {},
   "outputs": [],
   "source": [
    "import numpy as np\n",
    "import pandas as pd\n",
    "import pandas_profiling as pp\n",
    "import matplotlib.pyplot as plt\n",
    "import os"
   ]
  },
  {
   "cell_type": "markdown",
   "id": "e56fea81",
   "metadata": {},
   "source": [
    "## Datos"
   ]
  },
  {
   "cell_type": "code",
   "execution_count": 3,
   "id": "e2942604",
   "metadata": {},
   "outputs": [],
   "source": [
    "os.chdir('/home/juanpalms/Desktop/Mineria de Datos/Proyecto')"
   ]
  },
  {
   "cell_type": "code",
   "execution_count": 4,
   "id": "c6d0f0b5",
   "metadata": {},
   "outputs": [
    {
     "data": {
      "text/plain": [
       "'/home/juanpalms/Desktop/Mineria de Datos/Proyecto'"
      ]
     },
     "execution_count": 4,
     "metadata": {},
     "output_type": "execute_result"
    }
   ],
   "source": [
    "os.getcwd()"
   ]
  },
  {
   "cell_type": "code",
   "execution_count": 5,
   "id": "464e5db7",
   "metadata": {},
   "outputs": [
    {
     "name": "stderr",
     "output_type": "stream",
     "text": [
      "/tmp/ipykernel_16189/2775519410.py:1: DtypeWarning: Columns (26) have mixed types. Specify dtype option on import or set low_memory=False.\n",
      "  datos_train=pd.read_csv('Data/train.csv')\n"
     ]
    }
   ],
   "source": [
    "datos_train=pd.read_csv('Data/train.csv')"
   ]
  },
  {
   "cell_type": "code",
   "execution_count": 6,
   "id": "80b2385b",
   "metadata": {},
   "outputs": [],
   "source": [
    "datos_test=pd.read_csv('Data/test.csv')"
   ]
  },
  {
   "cell_type": "code",
   "execution_count": 8,
   "id": "5d6a37bb",
   "metadata": {},
   "outputs": [
    {
     "data": {
      "text/html": [
       "<div>\n",
       "<style scoped>\n",
       "    .dataframe tbody tr th:only-of-type {\n",
       "        vertical-align: middle;\n",
       "    }\n",
       "\n",
       "    .dataframe tbody tr th {\n",
       "        vertical-align: top;\n",
       "    }\n",
       "\n",
       "    .dataframe thead th {\n",
       "        text-align: right;\n",
       "    }\n",
       "</style>\n",
       "<table border=\"1\" class=\"dataframe\">\n",
       "  <thead>\n",
       "    <tr style=\"text-align: right;\">\n",
       "      <th></th>\n",
       "      <th>Monthly_Inhand_Salary</th>\n",
       "      <th>Num_Bank_Accounts</th>\n",
       "      <th>Num_Credit_Card</th>\n",
       "      <th>Interest_Rate</th>\n",
       "      <th>Delay_from_due_date</th>\n",
       "      <th>Num_Credit_Inquiries</th>\n",
       "      <th>Credit_Utilization_Ratio</th>\n",
       "      <th>Total_EMI_per_month</th>\n",
       "    </tr>\n",
       "  </thead>\n",
       "  <tbody>\n",
       "    <tr>\n",
       "      <th>count</th>\n",
       "      <td>84998.000000</td>\n",
       "      <td>100000.000000</td>\n",
       "      <td>100000.00000</td>\n",
       "      <td>100000.000000</td>\n",
       "      <td>100000.000000</td>\n",
       "      <td>98035.000000</td>\n",
       "      <td>100000.000000</td>\n",
       "      <td>100000.000000</td>\n",
       "    </tr>\n",
       "    <tr>\n",
       "      <th>mean</th>\n",
       "      <td>4194.170850</td>\n",
       "      <td>17.091280</td>\n",
       "      <td>22.47443</td>\n",
       "      <td>72.466040</td>\n",
       "      <td>21.068780</td>\n",
       "      <td>27.754251</td>\n",
       "      <td>32.285173</td>\n",
       "      <td>1403.118217</td>\n",
       "    </tr>\n",
       "    <tr>\n",
       "      <th>std</th>\n",
       "      <td>3183.686167</td>\n",
       "      <td>117.404834</td>\n",
       "      <td>129.05741</td>\n",
       "      <td>466.422621</td>\n",
       "      <td>14.860104</td>\n",
       "      <td>193.177339</td>\n",
       "      <td>5.116875</td>\n",
       "      <td>8306.041270</td>\n",
       "    </tr>\n",
       "    <tr>\n",
       "      <th>min</th>\n",
       "      <td>303.645417</td>\n",
       "      <td>-1.000000</td>\n",
       "      <td>0.00000</td>\n",
       "      <td>1.000000</td>\n",
       "      <td>-5.000000</td>\n",
       "      <td>0.000000</td>\n",
       "      <td>20.000000</td>\n",
       "      <td>0.000000</td>\n",
       "    </tr>\n",
       "    <tr>\n",
       "      <th>25%</th>\n",
       "      <td>1625.568229</td>\n",
       "      <td>3.000000</td>\n",
       "      <td>4.00000</td>\n",
       "      <td>8.000000</td>\n",
       "      <td>10.000000</td>\n",
       "      <td>3.000000</td>\n",
       "      <td>28.052567</td>\n",
       "      <td>30.306660</td>\n",
       "    </tr>\n",
       "    <tr>\n",
       "      <th>50%</th>\n",
       "      <td>3093.745000</td>\n",
       "      <td>6.000000</td>\n",
       "      <td>5.00000</td>\n",
       "      <td>13.000000</td>\n",
       "      <td>18.000000</td>\n",
       "      <td>6.000000</td>\n",
       "      <td>32.305784</td>\n",
       "      <td>69.249473</td>\n",
       "    </tr>\n",
       "    <tr>\n",
       "      <th>75%</th>\n",
       "      <td>5957.448333</td>\n",
       "      <td>7.000000</td>\n",
       "      <td>7.00000</td>\n",
       "      <td>20.000000</td>\n",
       "      <td>28.000000</td>\n",
       "      <td>9.000000</td>\n",
       "      <td>36.496663</td>\n",
       "      <td>161.224249</td>\n",
       "    </tr>\n",
       "    <tr>\n",
       "      <th>max</th>\n",
       "      <td>15204.633333</td>\n",
       "      <td>1798.000000</td>\n",
       "      <td>1499.00000</td>\n",
       "      <td>5797.000000</td>\n",
       "      <td>67.000000</td>\n",
       "      <td>2597.000000</td>\n",
       "      <td>50.000000</td>\n",
       "      <td>82331.000000</td>\n",
       "    </tr>\n",
       "  </tbody>\n",
       "</table>\n",
       "</div>"
      ],
      "text/plain": [
       "       Monthly_Inhand_Salary  Num_Bank_Accounts  Num_Credit_Card  \\\n",
       "count           84998.000000      100000.000000     100000.00000   \n",
       "mean             4194.170850          17.091280         22.47443   \n",
       "std              3183.686167         117.404834        129.05741   \n",
       "min               303.645417          -1.000000          0.00000   \n",
       "25%              1625.568229           3.000000          4.00000   \n",
       "50%              3093.745000           6.000000          5.00000   \n",
       "75%              5957.448333           7.000000          7.00000   \n",
       "max             15204.633333        1798.000000       1499.00000   \n",
       "\n",
       "       Interest_Rate  Delay_from_due_date  Num_Credit_Inquiries  \\\n",
       "count  100000.000000        100000.000000          98035.000000   \n",
       "mean       72.466040            21.068780             27.754251   \n",
       "std       466.422621            14.860104            193.177339   \n",
       "min         1.000000            -5.000000              0.000000   \n",
       "25%         8.000000            10.000000              3.000000   \n",
       "50%        13.000000            18.000000              6.000000   \n",
       "75%        20.000000            28.000000              9.000000   \n",
       "max      5797.000000            67.000000           2597.000000   \n",
       "\n",
       "       Credit_Utilization_Ratio  Total_EMI_per_month  \n",
       "count             100000.000000        100000.000000  \n",
       "mean                  32.285173          1403.118217  \n",
       "std                    5.116875          8306.041270  \n",
       "min                   20.000000             0.000000  \n",
       "25%                   28.052567            30.306660  \n",
       "50%                   32.305784            69.249473  \n",
       "75%                   36.496663           161.224249  \n",
       "max                   50.000000         82331.000000  "
      ]
     },
     "execution_count": 8,
     "metadata": {},
     "output_type": "execute_result"
    }
   ],
   "source": [
    "datos_train.describe()"
   ]
  },
  {
   "cell_type": "code",
   "execution_count": 11,
   "id": "a2053672",
   "metadata": {},
   "outputs": [
    {
     "data": {
      "text/plain": [
       "Index(['ID', 'Customer_ID', 'Month', 'Name', 'Age', 'SSN', 'Occupation',\n",
       "       'Annual_Income', 'Monthly_Inhand_Salary', 'Num_Bank_Accounts',\n",
       "       'Num_Credit_Card', 'Interest_Rate', 'Num_of_Loan', 'Type_of_Loan',\n",
       "       'Delay_from_due_date', 'Num_of_Delayed_Payment', 'Changed_Credit_Limit',\n",
       "       'Num_Credit_Inquiries', 'Credit_Mix', 'Outstanding_Debt',\n",
       "       'Credit_Utilization_Ratio', 'Credit_History_Age',\n",
       "       'Payment_of_Min_Amount', 'Total_EMI_per_month',\n",
       "       'Amount_invested_monthly', 'Payment_Behaviour', 'Monthly_Balance',\n",
       "       'Credit_Score'],\n",
       "      dtype='object')"
      ]
     },
     "execution_count": 11,
     "metadata": {},
     "output_type": "execute_result"
    }
   ],
   "source": [
    "datos_train.columns"
   ]
  },
  {
   "cell_type": "code",
   "execution_count": 12,
   "id": "a3ba1fea",
   "metadata": {},
   "outputs": [
    {
     "data": {
      "text/plain": [
       "0     January\n",
       "1    February\n",
       "2       March\n",
       "3       April\n",
       "4         May\n",
       "Name: Month, dtype: object"
      ]
     },
     "execution_count": 12,
     "metadata": {},
     "output_type": "execute_result"
    }
   ],
   "source": [
    "datos_train['Month'].head()"
   ]
  },
  {
   "cell_type": "markdown",
   "id": "d794935b",
   "metadata": {},
   "source": [
    "### Exploracion inicial de un solo mes de los datos para generar el EDA"
   ]
  },
  {
   "cell_type": "code",
   "execution_count": 19,
   "id": "b642599d",
   "metadata": {},
   "outputs": [],
   "source": [
    "#Filtro para meses\n",
    "filtro_enero=datos_train['Month']=='January'"
   ]
  },
  {
   "cell_type": "code",
   "execution_count": 34,
   "id": "9bcc9c74",
   "metadata": {},
   "outputs": [],
   "source": [
    "Jan_tr=datos_train[filtro_enero]"
   ]
  },
  {
   "cell_type": "code",
   "execution_count": 35,
   "id": "26a44388",
   "metadata": {},
   "outputs": [
    {
     "data": {
      "text/html": [
       "<div>\n",
       "<style scoped>\n",
       "    .dataframe tbody tr th:only-of-type {\n",
       "        vertical-align: middle;\n",
       "    }\n",
       "\n",
       "    .dataframe tbody tr th {\n",
       "        vertical-align: top;\n",
       "    }\n",
       "\n",
       "    .dataframe thead th {\n",
       "        text-align: right;\n",
       "    }\n",
       "</style>\n",
       "<table border=\"1\" class=\"dataframe\">\n",
       "  <thead>\n",
       "    <tr style=\"text-align: right;\">\n",
       "      <th></th>\n",
       "      <th>Monthly_Inhand_Salary</th>\n",
       "      <th>Num_Bank_Accounts</th>\n",
       "      <th>Num_Credit_Card</th>\n",
       "      <th>Interest_Rate</th>\n",
       "      <th>Delay_from_due_date</th>\n",
       "      <th>Num_Credit_Inquiries</th>\n",
       "      <th>Credit_Utilization_Ratio</th>\n",
       "      <th>Total_EMI_per_month</th>\n",
       "    </tr>\n",
       "  </thead>\n",
       "  <tbody>\n",
       "    <tr>\n",
       "      <th>count</th>\n",
       "      <td>10639.000000</td>\n",
       "      <td>12500.000000</td>\n",
       "      <td>12500.000000</td>\n",
       "      <td>12500.00000</td>\n",
       "      <td>12500.000000</td>\n",
       "      <td>12264.000000</td>\n",
       "      <td>12500.000000</td>\n",
       "      <td>12500.000000</td>\n",
       "    </tr>\n",
       "    <tr>\n",
       "      <th>mean</th>\n",
       "      <td>4199.465763</td>\n",
       "      <td>17.275120</td>\n",
       "      <td>21.647680</td>\n",
       "      <td>69.46520</td>\n",
       "      <td>21.051440</td>\n",
       "      <td>24.591650</td>\n",
       "      <td>32.291949</td>\n",
       "      <td>1303.781040</td>\n",
       "    </tr>\n",
       "    <tr>\n",
       "      <th>std</th>\n",
       "      <td>3195.283895</td>\n",
       "      <td>118.518214</td>\n",
       "      <td>123.789969</td>\n",
       "      <td>455.95698</td>\n",
       "      <td>14.859994</td>\n",
       "      <td>183.422458</td>\n",
       "      <td>5.084327</td>\n",
       "      <td>8118.261086</td>\n",
       "    </tr>\n",
       "    <tr>\n",
       "      <th>min</th>\n",
       "      <td>303.645417</td>\n",
       "      <td>0.000000</td>\n",
       "      <td>1.000000</td>\n",
       "      <td>1.00000</td>\n",
       "      <td>-5.000000</td>\n",
       "      <td>0.000000</td>\n",
       "      <td>20.992914</td>\n",
       "      <td>0.000000</td>\n",
       "    </tr>\n",
       "    <tr>\n",
       "      <th>25%</th>\n",
       "      <td>1624.265000</td>\n",
       "      <td>3.000000</td>\n",
       "      <td>4.000000</td>\n",
       "      <td>8.00000</td>\n",
       "      <td>10.000000</td>\n",
       "      <td>2.000000</td>\n",
       "      <td>28.110034</td>\n",
       "      <td>29.128806</td>\n",
       "    </tr>\n",
       "    <tr>\n",
       "      <th>50%</th>\n",
       "      <td>3081.902500</td>\n",
       "      <td>6.000000</td>\n",
       "      <td>5.000000</td>\n",
       "      <td>13.00000</td>\n",
       "      <td>18.000000</td>\n",
       "      <td>4.000000</td>\n",
       "      <td>32.297912</td>\n",
       "      <td>66.372879</td>\n",
       "    </tr>\n",
       "    <tr>\n",
       "      <th>75%</th>\n",
       "      <td>5973.520833</td>\n",
       "      <td>7.000000</td>\n",
       "      <td>7.000000</td>\n",
       "      <td>20.00000</td>\n",
       "      <td>28.000000</td>\n",
       "      <td>8.000000</td>\n",
       "      <td>36.458660</td>\n",
       "      <td>149.904496</td>\n",
       "    </tr>\n",
       "    <tr>\n",
       "      <th>max</th>\n",
       "      <td>15204.633333</td>\n",
       "      <td>1779.000000</td>\n",
       "      <td>1479.000000</td>\n",
       "      <td>5788.00000</td>\n",
       "      <td>67.000000</td>\n",
       "      <td>2592.000000</td>\n",
       "      <td>49.564519</td>\n",
       "      <td>82122.000000</td>\n",
       "    </tr>\n",
       "  </tbody>\n",
       "</table>\n",
       "</div>"
      ],
      "text/plain": [
       "       Monthly_Inhand_Salary  Num_Bank_Accounts  Num_Credit_Card  \\\n",
       "count           10639.000000       12500.000000     12500.000000   \n",
       "mean             4199.465763          17.275120        21.647680   \n",
       "std              3195.283895         118.518214       123.789969   \n",
       "min               303.645417           0.000000         1.000000   \n",
       "25%              1624.265000           3.000000         4.000000   \n",
       "50%              3081.902500           6.000000         5.000000   \n",
       "75%              5973.520833           7.000000         7.000000   \n",
       "max             15204.633333        1779.000000      1479.000000   \n",
       "\n",
       "       Interest_Rate  Delay_from_due_date  Num_Credit_Inquiries  \\\n",
       "count    12500.00000         12500.000000          12264.000000   \n",
       "mean        69.46520            21.051440             24.591650   \n",
       "std        455.95698            14.859994            183.422458   \n",
       "min          1.00000            -5.000000              0.000000   \n",
       "25%          8.00000            10.000000              2.000000   \n",
       "50%         13.00000            18.000000              4.000000   \n",
       "75%         20.00000            28.000000              8.000000   \n",
       "max       5788.00000            67.000000           2592.000000   \n",
       "\n",
       "       Credit_Utilization_Ratio  Total_EMI_per_month  \n",
       "count              12500.000000         12500.000000  \n",
       "mean                  32.291949          1303.781040  \n",
       "std                    5.084327          8118.261086  \n",
       "min                   20.992914             0.000000  \n",
       "25%                   28.110034            29.128806  \n",
       "50%                   32.297912            66.372879  \n",
       "75%                   36.458660           149.904496  \n",
       "max                   49.564519         82122.000000  "
      ]
     },
     "execution_count": 35,
     "metadata": {},
     "output_type": "execute_result"
    }
   ],
   "source": [
    "Jan_tr.describe()"
   ]
  },
  {
   "cell_type": "markdown",
   "id": "8a0f339b",
   "metadata": {},
   "source": [
    "ID                      :Represents a unique identification of an entry\n",
    "Customer_ID             :Represents a unique identification of a person\n",
    "Month                   :Represents the month of the year\n",
    "Name                    :Represents the name of a person\n",
    "Age                     :Represents the age of the person\n",
    "SSN                     :Represents the social security number of a person\n",
    "Occupation              :Represents the occupation of the person\n",
    "Annual_Income           :Represents the annual income of the person\n",
    "Monthly_Inhand_Salary   :Represents the monthly base salary of a person\n",
    "Num_Bank_Accounts       :Represents the number of bank accounts a person holds\n",
    "Num_Credit_Card         :Represents the number of other credit cards held by a person\n",
    "Interest_Rate           :Represents the interest rate on credit card\n",
    "Num_of_Loan             :Represents the number of loans taken from the bank\n",
    "Type_of_Loan            :Represents the types of loan taken by a person\n",
    "Delay_from_due_date     :Represents the average number of days delayed from the payment date\n",
    "Num_of_Delayed_Payment  :Represents the average number of payments delayed by a person\n",
    "Changed_Credit_Limit    :Represents the percentage change in credit card limit\n",
    "Num_Credit_Inquiries    :Represents the number of credit card inquiries (An inquiry refers to a request to look at                          your credit file and falls into one of two camps: hard or soft. A credit inquiry occurs                            when you apply for a credit card or loan and permit the issuer or lender to check your                            credit. Some inquiries have no effect on your credit, but others can lower your credit                             score.)\n",
    "Credit_Mix              :Represents the classification of the mix of credits\n",
    "Outstanding_Debt        :Represents the remaining debt to be paid (in USD)\n",
    "Credit_Utilization_Ratio:Represents the utilization ratio of credit card\n",
    "Credit_History_Age      :Represents the age of credit history of the person\n",
    "Payment_of_Min_Amount   :Represents whether only the minimum amount was paid by the person\n",
    "Total_EMI_per_month     :Represents the monthly EMI payments (in USD)\n",
    "Amount_invested_monthly :Represents the monthly amount invested by the customer (in USD)\n",
    "Payment_Behaviour       :Represents the payment behavior of the customer (in USD)\n",
    "Monthly_Balance         :Represents the monthly balance amount of the customer (in USD)\n",
    "Credit_Score            :Represents the bracket of credit score (Poor, Standard, Good)"
   ]
  },
  {
   "cell_type": "markdown",
   "id": "55ba5849",
   "metadata": {},
   "source": [
    "Profiling de los datos tomando solo ciertas caracteristicas basicas iniciales"
   ]
  },
  {
   "cell_type": "code",
   "execution_count": 36,
   "id": "2e322582",
   "metadata": {},
   "outputs": [],
   "source": [
    "#columnas de descripcion general fast EDA\n",
    "columnas_FEDA=['Occupation','Monthly_Inhand_Salary','Num_Credit_Card','Interest_Rate',\n",
    "               'Num_of_Loan','Type_of_Loan','Delay_from_due_date','Num_Credit_Inquiries',\n",
    "               'Credit_Utilization_Ratio','Payment_of_Min_Amount','Credit_Score']"
   ]
  },
  {
   "cell_type": "code",
   "execution_count": 37,
   "id": "2a4056aa",
   "metadata": {},
   "outputs": [],
   "source": [
    "Jan_tr_pr=Jan_tr[columnas_FEDA]"
   ]
  },
  {
   "cell_type": "code",
   "execution_count": 42,
   "id": "cb6962d3",
   "metadata": {},
   "outputs": [],
   "source": [
    "profile_jan=pp.ProfileReport(Jan_tr_pr)"
   ]
  },
  {
   "cell_type": "code",
   "execution_count": 44,
   "id": "c33ccb24",
   "metadata": {},
   "outputs": [
    {
     "data": {
      "application/vnd.jupyter.widget-view+json": {
       "model_id": "8bcaa8bf1a5e4a6e8354734e923086d9",
       "version_major": 2,
       "version_minor": 0
      },
      "text/plain": [
       "Summarize dataset:   0%|          | 0/26 [00:00<?, ?it/s]"
      ]
     },
     "metadata": {},
     "output_type": "display_data"
    },
    {
     "data": {
      "application/vnd.jupyter.widget-view+json": {
       "model_id": "bd3aa63c093a4eb0b7a2c4ebf4497f18",
       "version_major": 2,
       "version_minor": 0
      },
      "text/plain": [
       "Generate report structure:   0%|          | 0/1 [00:00<?, ?it/s]"
      ]
     },
     "metadata": {},
     "output_type": "display_data"
    },
    {
     "data": {
      "application/vnd.jupyter.widget-view+json": {
       "model_id": "81780d2b87b74fb383b55ce07a24a3bb",
       "version_major": 2,
       "version_minor": 0
      },
      "text/plain": [
       "Render HTML:   0%|          | 0/1 [00:00<?, ?it/s]"
      ]
     },
     "metadata": {},
     "output_type": "display_data"
    },
    {
     "data": {
      "application/vnd.jupyter.widget-view+json": {
       "model_id": "d410f1852028417e87871d58e93f9506",
       "version_major": 2,
       "version_minor": 0
      },
      "text/plain": [
       "Export report to file:   0%|          | 0/1 [00:00<?, ?it/s]"
      ]
     },
     "metadata": {},
     "output_type": "display_data"
    }
   ],
   "source": [
    "profile_jan.to_file('JanuaryProfiling.html')"
   ]
  },
  {
   "cell_type": "markdown",
   "id": "acd7e222",
   "metadata": {},
   "source": [
    "## Data Engineering"
   ]
  },
  {
   "cell_type": "markdown",
   "id": "58bb19da",
   "metadata": {},
   "source": [
    "#Por hacer:\n",
    "1) Rellenar missing values de variables evidentes\n",
    "1) Separar la columna de Type_of_Loan: pq?- el credito al consumo no es igual a otro tipo de creditos, tener dummies por tipo de creditos y relacionarlo con otras variables es importante para entender el comportamiento de los clientes. Posiblemente la gente que tiene creditos al consumo es mas propensa a defaultear por lo tanto tienen peor score crediticio."
   ]
  }
 ],
 "metadata": {
  "kernelspec": {
   "display_name": "Python 3 (ipykernel)",
   "language": "python",
   "name": "python3"
  },
  "language_info": {
   "codemirror_mode": {
    "name": "ipython",
    "version": 3
   },
   "file_extension": ".py",
   "mimetype": "text/x-python",
   "name": "python",
   "nbconvert_exporter": "python",
   "pygments_lexer": "ipython3",
   "version": "3.10.4"
  }
 },
 "nbformat": 4,
 "nbformat_minor": 5
}
